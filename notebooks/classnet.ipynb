{
 "cells": [
  {
   "cell_type": "markdown",
   "source": [],
   "metadata": {
    "collapsed": false
   }
  },
  {
   "cell_type": "markdown",
   "source": [
    "noting down the requirements and the cuda prerequisites since they'll be needed so the notebook can be used in different platforms\n",
    "\n",
    "Cuda version = cuda 11.2\n",
    "CuDNN = 8.1.1\n",
    "tensorflow = tf-gpu 2.9.1\n",
    "\n",
    "Also, on a later notice the project will be running on a docker containers"
   ],
   "metadata": {
    "collapsed": false
   }
  },
  {
   "cell_type": "code",
   "execution_count": null,
   "outputs": [],
   "source": [
    "import plotly.express as px\n",
    "import tensorflow as tf\n",
    "import PIL\n",
    "import numpy as np\n",
    "import matplotlib.pyplot as plt\n",
    "import pandas as pd\n",
    "import os\n",
    "import glob\n",
    "import random\n",
    "import seaborn as sns\n",
    "random.seed(100)\n",
    "np.random.seed(100)\n"
   ],
   "metadata": {
    "collapsed": false
   }
  },
  {
   "cell_type": "code",
   "execution_count": null,
   "outputs": [],
   "source": [
    "tf . print(tf. __version__)\n",
    "tf.random.set_seed(100)"
   ],
   "metadata": {
    "collapsed": false
   }
  },
  {
   "cell_type": "markdown",
   "source": [
    "testing the file path to see if the pictures are recognized\n"
   ],
   "metadata": {
    "collapsed": false
   }
  },
  {
   "cell_type": "code",
   "execution_count": null,
   "outputs": [],
   "source": [
    "for dirname, _, filenames in os.walk('CBIS-DDSM\\jpeg'):\n",
    "    for filename in filenames:\n",
    "        print(os.path.join(dirname, filename))\n"
   ],
   "metadata": {
    "collapsed": false
   }
  },
  {
   "cell_type": "markdown",
   "source": [
    "now defining the functions for the plotting\n"
   ],
   "metadata": {
    "collapsed": false
   }
  },
  {
   "cell_type": "code",
   "execution_count": null,
   "outputs": [],
   "source": [
    "# Distribution graphs (histogram/bar graph) of column data\n",
    "# Distribution graphs (histogram/bar graph) of column data\n",
    "def plotPerColumnDistribution(df, nGraphShown, nGraphPerRow):\n",
    "    nunique = df.nunique()\n",
    "    df = df[[col for col in df if 1 < nunique[col] < 50]] # For displaying purposes, pick columns that have between 1 and 50 unique values\n",
    "    nRow, nCol = df.shape\n",
    "    columnNames = list(df)\n",
    "    nGraphRow = int((nCol + nGraphPerRow - 1) / nGraphPerRow)\n",
    "    plt.figure(num = None, figsize = (6 * nGraphPerRow, 8 * nGraphRow), dpi = 80, facecolor = 'w', edgecolor = 'k')\n",
    "    for i in range(min(nCol, nGraphShown)):\n",
    "        plt.subplot(nGraphRow, nGraphPerRow, i + 1)\n",
    "        columnDf = df.iloc[:, i]\n",
    "        if (not np.issubdtype(type(columnDf.iloc[0]), np.number)):\n",
    "            valueCounts = columnDf.value_counts()\n",
    "            valueCounts.plot.bar()\n",
    "        else:\n",
    "            columnDf.hist()\n",
    "        plt.ylabel('counts')\n",
    "        plt.xticks(rotation = 90)\n",
    "        plt.title(f'{columnNames[i]} (column {i})')\n",
    "    plt.tight_layout(pad = 1.0, w_pad = 1.0, h_pad = 1.0)\n",
    "    plt.show()"
   ],
   "metadata": {
    "collapsed": false
   }
  },
  {
   "cell_type": "code",
   "execution_count": null,
   "outputs": [],
   "source": [
    "# Correlation matrix\n",
    "def plotCorrelationMatrix(df, graphWidth):\n",
    "    filename = df.dataframeName\n",
    "    df = df.dropna('columns') # drop columns with NaN\n",
    "    df = df[[col for col in df if df[col].nunique() > 1]] # keep columns where there are more than 1 unique values\n",
    "    if df.shape[1] < 2:\n",
    "        print(f'No correlation plots shown: The number of non-NaN or constant columns ({df.shape[1]}) is less than 2')\n",
    "        return\n",
    "    corr = df.corr()\n",
    "    plt.figure(num=None, figsize=(graphWidth, graphWidth), dpi=80, facecolor='w', edgecolor='k')\n",
    "    corrMat = plt.matshow(corr, fignum = 1)\n",
    "    plt.xticks(range(len(corr.columns)), corr.columns, rotation=90)\n",
    "    plt.yticks(range(len(corr.columns)), corr.columns)\n",
    "    plt.gca().xaxis.tick_bottom()\n",
    "    plt.colorbar(corrMat)\n",
    "    plt.title(f'Correlation Matrix for {filename}', fontsize=15)\n",
    "    plt.show()"
   ],
   "metadata": {
    "collapsed": false
   }
  },
  {
   "cell_type": "code",
   "execution_count": null,
   "outputs": [],
   "source": [
    "# Scatter and density plots\n",
    "def plotScatterMatrix(df, plotSize, textSize):\n",
    "    df = df.select_dtypes(include =[np.number]) # keep only numerical columns\n",
    "    # Remove rows and columns that would lead to df being singular\n",
    "    df = df.dropna('columns')\n",
    "    df = df[[col for col in df if df[col].nunique() > 1]] # keep columns where there are more than 1 unique values\n",
    "    columnNames = list(df)\n",
    "    if len(columnNames) > 10: # reduce the number of columns for matrix inversion of kernel density plots\n",
    "        columnNames = columnNames[:10]\n",
    "    df = df[columnNames]\n",
    "    ax = pd.plotting.scatter_matrix(df, alpha=0.75, figsize=[plotSize, plotSize], diagonal='kde')\n",
    "    corrs = df.corr().values\n",
    "    for i, j in zip(*plt.np.triu_indices_from(ax, k = 1)):\n",
    "        ax[i, j].annotate('Corr. coef = %.3f' % corrs[i, j], (0.8, 0.2), xycoords='axes fraction', ha='center', va='center', size=textSize)\n",
    "    plt.suptitle('Scatter and Density Plot')\n",
    "    plt.show()"
   ],
   "metadata": {
    "collapsed": false
   }
  },
  {
   "cell_type": "markdown",
   "source": [
    "checking the first file calc_case_description_test_set.csv"
   ],
   "metadata": {
    "collapsed": false
   }
  },
  {
   "cell_type": "code",
   "execution_count": null,
   "outputs": [],
   "source": [
    "nRowsRead = None #1000 # specify 'None' if I want to read whole file\n",
    "# calc_case_description_test_set.csv may have more rows in reality, but we are only loading/previewing the first 1000 rows\n",
    "df1 = pd.read_csv('CBIS-DDSM/csv/calc_case_description_test_set.csv', delimiter=',', nrows = nRowsRead)\n",
    "df1.dataframeName = 'calc_case_description_test_set.csv'\n",
    "nRow, nCol = df1.shape\n",
    "print(f'There are {nRow} rows and {nCol} columns')"
   ],
   "metadata": {
    "collapsed": false
   }
  },
  {
   "cell_type": "code",
   "execution_count": null,
   "outputs": [],
   "source": [
    "df1.head(5)"
   ],
   "metadata": {
    "collapsed": false
   }
  },
  {
   "cell_type": "markdown",
   "source": [],
   "metadata": {
    "collapsed": false
   }
  },
  {
   "cell_type": "code",
   "execution_count": null,
   "outputs": [],
   "source": [
    "plotPerColumnDistribution(df1, 10, 5)"
   ],
   "metadata": {
    "collapsed": false
   }
  },
  {
   "cell_type": "code",
   "execution_count": null,
   "outputs": [],
   "source": [
    "plotCorrelationMatrix(df1, 8)"
   ],
   "metadata": {
    "collapsed": false
   }
  },
  {
   "cell_type": "code",
   "execution_count": null,
   "outputs": [],
   "source": [
    "plotScatterMatrix(df1, 12, 10)"
   ],
   "metadata": {
    "collapsed": false
   }
  },
  {
   "cell_type": "markdown",
   "source": [
    "checking meta.csv ?"
   ],
   "metadata": {
    "collapsed": false
   }
  },
  {
   "cell_type": "code",
   "execution_count": null,
   "outputs": [],
   "source": [
    "nRowsRead = 1000 # specify 'None' if want to read whole file\n",
    "# meta.csv may have more rows in reality, but we are only loading/previewing the first 1000 rows\n",
    "df2 = pd.read_csv('CBIS-DDSM/csv/meta.csv', delimiter=',', nrows = nRowsRead)\n",
    "df2.dataframeName = 'meta.csv'\n",
    "nRow, nCol = df2.shape\n",
    "print(f'There are {nRow} rows and {nCol} columns')\n"
   ],
   "metadata": {
    "collapsed": false
   }
  },
  {
   "cell_type": "code",
   "execution_count": null,
   "outputs": [],
   "source": [
    "df2.head(5)"
   ],
   "metadata": {
    "collapsed": false
   }
  },
  {
   "cell_type": "code",
   "execution_count": null,
   "outputs": [],
   "source": [
    "plotPerColumnDistribution(df2, 10, 5)"
   ],
   "metadata": {
    "collapsed": false
   }
  },
  {
   "cell_type": "code",
   "execution_count": null,
   "outputs": [],
   "source": [
    "plotCorrelationMatrix(df2, 8)"
   ],
   "metadata": {
    "collapsed": false
   }
  },
  {
   "cell_type": "code",
   "execution_count": null,
   "outputs": [],
   "source": [
    "plotScatterMatrix(df2, 9, 10)"
   ],
   "metadata": {
    "collapsed": false
   }
  },
  {
   "cell_type": "code",
   "execution_count": null,
   "outputs": [],
   "source": [
    "nRowsRead = 1000 # specify 'None' if want to read whole file\n",
    "# mass_case_description_train_set.csv may have more rows in reality, but we are only loading/previewing the first 1000 rows\n",
    "df3 = pd.read_csv('CBIS-DDSM/csv/mass_case_description_train_set.csv', delimiter=',', nrows = nRowsRead)\n",
    "df3.dataframeName = 'mass_case_description_train_set.csv'\n",
    "nRow, nCol = df3.shape\n",
    "print(f'There are {nRow} rows and {nCol} columns')\n"
   ],
   "metadata": {
    "collapsed": false
   }
  },
  {
   "cell_type": "code",
   "execution_count": null,
   "outputs": [],
   "source": [
    "df3.head(5)"
   ],
   "metadata": {
    "collapsed": false
   }
  },
  {
   "cell_type": "code",
   "execution_count": null,
   "outputs": [],
   "source": [
    "plotPerColumnDistribution(df3, 10, 5)"
   ],
   "metadata": {
    "collapsed": false
   }
  },
  {
   "cell_type": "code",
   "execution_count": null,
   "outputs": [],
   "source": [
    "plotCorrelationMatrix(df3, 8)"
   ],
   "metadata": {
    "collapsed": false
   }
  },
  {
   "cell_type": "code",
   "execution_count": null,
   "outputs": [],
   "source": [
    "plotScatterMatrix(df3, 12, 10)"
   ],
   "metadata": {
    "collapsed": false
   }
  },
  {
   "cell_type": "code",
   "execution_count": null,
   "outputs": [],
   "source": [
    "dicom_data = pd.read_csv('CBIS-DDSM/csv/dicom_info.csv')"
   ],
   "metadata": {
    "collapsed": false
   }
  },
  {
   "cell_type": "code",
   "execution_count": null,
   "outputs": [],
   "source": [
    "dicom_data.head()"
   ],
   "metadata": {
    "collapsed": false
   }
  },
  {
   "cell_type": "markdown",
   "source": [
    "information that is contained in the dicom images"
   ],
   "metadata": {
    "collapsed": false
   }
  },
  {
   "cell_type": "code",
   "execution_count": null,
   "outputs": [],
   "source": [
    "dicom_data.info()"
   ],
   "metadata": {
    "collapsed": false
   }
  },
  {
   "cell_type": "code",
   "execution_count": null,
   "outputs": [],
   "source": [
    "cropped_images=dicom_data[dicom_data.SeriesDescription == 'cropped images'].image_path\n",
    "cropped_images.head()"
   ],
   "metadata": {
    "collapsed": false
   }
  },
  {
   "cell_type": "markdown",
   "source": [
    "dir containing the images"
   ],
   "metadata": {
    "collapsed": false
   }
  },
  {
   "cell_type": "markdown",
   "source": [],
   "metadata": {
    "collapsed": false
   }
  },
  {
   "cell_type": "code",
   "execution_count": null,
   "outputs": [],
   "source": [
    "image_dir = 'CBIS-DDSM/jpeg'"
   ],
   "metadata": {
    "collapsed": false
   }
  },
  {
   "cell_type": "markdown",
   "source": [
    "cropping images"
   ],
   "metadata": {
    "collapsed": false
   }
  },
  {
   "cell_type": "code",
   "execution_count": null,
   "outputs": [],
   "source": [
    "cropped_images = cropped_images.apply(lambda x: x.replace('CBIS-DDSM/jpeg', image_dir))\n",
    "cropped_images.head()"
   ],
   "metadata": {
    "collapsed": false
   }
  },
  {
   "cell_type": "markdown",
   "source": [
    "converting images to grayscale"
   ],
   "metadata": {
    "collapsed": false
   }
  },
  {
   "cell_type": "code",
   "execution_count": null,
   "outputs": [],
   "source": [
    "for file  in cropped_images[0:5]:\n",
    "  cropped_images_show = PIL.Image.open(file)\n",
    "  gray_img= cropped_images_show.convert(\"L\")\n",
    "  plt.imshow(gray_img, cmap='gray')"
   ],
   "metadata": {
    "collapsed": false
   }
  },
  {
   "cell_type": "markdown",
   "source": [
    "full_mamogram_images contains the uncropped images"
   ],
   "metadata": {
    "collapsed": false
   }
  },
  {
   "cell_type": "code",
   "execution_count": null,
   "outputs": [],
   "source": [
    "full_mammogram_images=dicom_data[dicom_data.SeriesDescription == 'full mammogram images'].image_path\n",
    "#.replace(image_path,image_dir)\n",
    "#image_path\n",
    "full_mammogram_images.head()"
   ],
   "metadata": {
    "collapsed": false
   }
  },
  {
   "cell_type": "markdown",
   "source": [
    "convert them to grayscale"
   ],
   "metadata": {
    "collapsed": false
   }
  },
  {
   "cell_type": "code",
   "execution_count": null,
   "outputs": [],
   "source": [
    "full_mammogram_images = full_mammogram_images.apply(lambda x: x.replace('CBIS-DDSM/jpeg', image_dir))\n",
    "full_mammogram_images.head()\n"
   ],
   "metadata": {
    "collapsed": false
   }
  },
  {
   "cell_type": "code",
   "execution_count": null,
   "outputs": [],
   "source": [
    "for file  in full_mammogram_images[0:5]:\n",
    "  full_mammogram_images_show = PIL.Image.open(file)\n",
    "  gray_img= full_mammogram_images_show.convert(\"L\")\n",
    "  plt.imshow(gray_img, cmap='gray')\n"
   ],
   "metadata": {
    "collapsed": false
   }
  },
  {
   "cell_type": "markdown",
   "source": [
    "-----since last test-----\n",
    "now we will need to extract the roi mask"
   ],
   "metadata": {
    "collapsed": false
   }
  },
  {
   "cell_type": "code",
   "execution_count": null,
   "outputs": [],
   "source": [
    "ROI_mask_images=dicom_data[dicom_data.SeriesDescription == 'ROI mask images'].image_path\n",
    "ROI_mask_images.head()"
   ],
   "metadata": {
    "collapsed": false
   }
  },
  {
   "cell_type": "markdown",
   "source": [
    "now to create the mask's graph"
   ],
   "metadata": {
    "collapsed": false
   }
  },
  {
   "cell_type": "code",
   "execution_count": null,
   "outputs": [],
   "source": [
    "for file  in ROI_mask_images[0:5]:\n",
    "  ROI_mask_images_show = PIL.Image.open(file)\n",
    "  gray_img= ROI_mask_images_show.convert(\"L\")\n",
    "  plt.imshow(gray_img, cmap='gray')"
   ],
   "metadata": {
    "collapsed": false
   }
  },
  {
   "cell_type": "markdown",
   "source": [
    "Start reading data for every image\n",
    "\n",
    "\n"
   ],
   "metadata": {
    "collapsed": false
   }
  },
  {
   "cell_type": "code",
   "execution_count": null,
   "outputs": [],
   "source": [
    "data_1=pd.read_csv('CBIS-DDSM/csv/calc_case_description_train_set.csv')\n"
   ],
   "metadata": {
    "collapsed": false
   }
  },
  {
   "cell_type": "code",
   "execution_count": null,
   "outputs": [],
   "source": [
    "data_1.head()\n"
   ],
   "metadata": {
    "collapsed": false
   }
  },
  {
   "cell_type": "code",
   "execution_count": null,
   "outputs": [],
   "source": [
    "data_1.info()\n"
   ],
   "metadata": {
    "collapsed": false
   }
  },
  {
   "cell_type": "code",
   "execution_count": null,
   "outputs": [],
   "source": [
    "data_1.describe()"
   ],
   "metadata": {
    "collapsed": false
   }
  },
  {
   "cell_type": "code",
   "execution_count": null,
   "outputs": [],
   "source": [
    "data_2=pd.read_csv('CBIS-DDSM/csv/mass_case_description_train_set.csv')"
   ],
   "metadata": {
    "collapsed": false
   }
  },
  {
   "cell_type": "code",
   "execution_count": null,
   "outputs": [],
   "source": [
    "data_2.head()"
   ],
   "metadata": {
    "collapsed": false
   }
  },
  {
   "cell_type": "code",
   "execution_count": null,
   "outputs": [],
   "source": [
    "data_2.info()"
   ],
   "metadata": {
    "collapsed": false
   }
  },
  {
   "cell_type": "code",
   "execution_count": null,
   "outputs": [],
   "source": [
    "data_2.describe()"
   ],
   "metadata": {
    "collapsed": false
   }
  },
  {
   "cell_type": "markdown",
   "source": [
    "Data Cleaning"
   ],
   "metadata": {
    "collapsed": false
   }
  },
  {
   "cell_type": "code",
   "execution_count": null,
   "outputs": [],
   "source": [
    "dicom_cleaning_data = dicom_data.copy()\n",
    "dicom_cleaning_data.head()\n"
   ],
   "metadata": {
    "collapsed": false
   }
  },
  {
   "cell_type": "code",
   "execution_count": null,
   "outputs": [],
   "source": [
    "dicom_cleaning_data.drop(['PatientBirthDate','AccessionNumber','Columns','ContentDate','ContentTime','PatientSex','PatientBirthDate',\n",
    "                                                'ReferringPhysicianName','Rows','SOPClassUID','SOPInstanceUID',\n",
    "                                                'StudyDate','StudyID','StudyInstanceUID','StudyTime','InstanceNumber','SeriesInstanceUID','SeriesNumber'],axis =1, inplace=True)\n"
   ],
   "metadata": {
    "collapsed": false
   }
  },
  {
   "cell_type": "code",
   "execution_count": null,
   "outputs": [],
   "source": [
    "dicom_cleaning_data.info()"
   ],
   "metadata": {
    "collapsed": false
   }
  },
  {
   "cell_type": "code",
   "execution_count": null,
   "outputs": [],
   "source": [
    "dicom_cleaning_data.isna().sum()"
   ],
   "metadata": {
    "collapsed": false
   }
  },
  {
   "cell_type": "code",
   "execution_count": null,
   "outputs": [],
   "source": [
    "dicom_cleaning_data['SeriesDescription'].fillna(method = 'bfill', axis = 0, inplace=True)"
   ],
   "metadata": {
    "collapsed": false
   }
  },
  {
   "cell_type": "code",
   "execution_count": null,
   "outputs": [],
   "source": [
    "dicom_cleaning_data['Laterality'].fillna(method = 'bfill', axis = 0, inplace=True)"
   ],
   "metadata": {
    "collapsed": false
   }
  },
  {
   "cell_type": "code",
   "execution_count": null,
   "outputs": [],
   "source": [
    "dicom_cleaning_data['Laterality'].fillna(method = 'bfill', axis = 0, inplace=True)"
   ],
   "metadata": {
    "collapsed": false
   }
  },
  {
   "cell_type": "code",
   "execution_count": null,
   "outputs": [],
   "source": [
    "dicom_cleaning_data.isna().sum()"
   ],
   "metadata": {
    "collapsed": false
   }
  },
  {
   "cell_type": "code",
   "execution_count": null,
   "outputs": [],
   "source": [
    "Data_cleaning_1 = data_1.copy()"
   ],
   "metadata": {
    "collapsed": false
   }
  },
  {
   "cell_type": "code",
   "execution_count": null,
   "outputs": [],
   "source": [
    "Data_cleaning_1 = Data_cleaning_1.rename(columns={'calc type':'calc_type'})"
   ],
   "metadata": {
    "collapsed": false
   }
  },
  {
   "cell_type": "code",
   "execution_count": null,
   "outputs": [],
   "source": [
    "Data_cleaning_1 = Data_cleaning_1.rename(columns={'calc distribution':'calc_distribution'})"
   ],
   "metadata": {
    "collapsed": false
   }
  },
  {
   "cell_type": "code",
   "execution_count": null,
   "outputs": [],
   "source": [
    "Data_cleaning_1 = Data_cleaning_1.rename(columns={'image view':'image_view'})"
   ],
   "metadata": {
    "collapsed": false
   }
  },
  {
   "cell_type": "code",
   "execution_count": null,
   "outputs": [],
   "source": [
    "Data_cleaning_1 = Data_cleaning_1.rename(columns={'left or right breast':'left_or_right_breast'})"
   ],
   "metadata": {
    "collapsed": false
   }
  },
  {
   "cell_type": "code",
   "execution_count": null,
   "outputs": [],
   "source": [
    "Data_cleaning_1 = Data_cleaning_1.rename(columns={'breast density':'breast_density'})"
   ],
   "metadata": {
    "collapsed": false
   }
  },
  {
   "cell_type": "code",
   "execution_count": null,
   "outputs": [],
   "source": [
    "Data_cleaning_1 = Data_cleaning_1.rename(columns={'abnormality type':'abnormality_type'})"
   ],
   "metadata": {
    "collapsed": false
   }
  },
  {
   "cell_type": "code",
   "execution_count": null,
   "outputs": [],
   "source": [
    "Data_cleaning_1['pathology'] = Data_cleaning_1['pathology'].astype('category')"
   ],
   "metadata": {
    "collapsed": false
   }
  },
  {
   "cell_type": "code",
   "execution_count": null,
   "outputs": [],
   "source": [
    "Data_cleaning_1['calc_type'] = Data_cleaning_1['calc_type'].astype('category')"
   ],
   "metadata": {
    "collapsed": false
   }
  },
  {
   "cell_type": "code",
   "execution_count": null,
   "outputs": [],
   "source": [
    "Data_cleaning_1['calc_distribution'] = Data_cleaning_1['calc_distribution'].astype('category')"
   ],
   "metadata": {
    "collapsed": false
   }
  },
  {
   "cell_type": "code",
   "execution_count": null,
   "outputs": [],
   "source": [
    "Data_cleaning_1['abnormality_type'] = Data_cleaning_1['abnormality_type'].astype('category')"
   ],
   "metadata": {
    "collapsed": false
   }
  },
  {
   "cell_type": "code",
   "execution_count": null,
   "outputs": [],
   "source": [
    "Data_cleaning_1['image_view'] = Data_cleaning_1['image_view'].astype('category')"
   ],
   "metadata": {
    "collapsed": false
   }
  },
  {
   "cell_type": "code",
   "execution_count": null,
   "outputs": [],
   "source": [
    "Data_cleaning_1['left_or_right_breast'] = Data_cleaning_1['left_or_right_breast'].astype('category')"
   ],
   "metadata": {
    "collapsed": false
   }
  },
  {
   "cell_type": "code",
   "execution_count": null,
   "outputs": [],
   "source": [
    "Data_cleaning_1.isna().sum()"
   ],
   "metadata": {
    "collapsed": false
   }
  },
  {
   "cell_type": "code",
   "execution_count": null,
   "outputs": [],
   "source": [
    "Data_cleaning_1['calc_type'].fillna(method = 'bfill', axis = 0, inplace=True)"
   ],
   "metadata": {
    "collapsed": false
   }
  },
  {
   "cell_type": "code",
   "execution_count": null,
   "outputs": [],
   "source": [
    "Data_cleaning_1['calc_distribution'].fillna(method = 'bfill', axis = 0, inplace=True)"
   ],
   "metadata": {
    "collapsed": false
   }
  },
  {
   "cell_type": "code",
   "execution_count": null,
   "outputs": [],
   "source": [
    "Data_cleaning_1.isna().sum()"
   ],
   "metadata": {
    "collapsed": false
   }
  },
  {
   "cell_type": "code",
   "execution_count": null,
   "outputs": [],
   "source": [
    "Data_cleaning_1.info()"
   ],
   "metadata": {
    "collapsed": false
   }
  },
  {
   "cell_type": "code",
   "execution_count": null,
   "outputs": [],
   "source": [
    "Data_cleaning_2 = data_2.copy()"
   ],
   "metadata": {
    "collapsed": false
   }
  },
  {
   "cell_type": "code",
   "execution_count": null,
   "outputs": [],
   "source": [
    "Data_cleaning_2 = Data_cleaning_2.rename(columns={'mass shape':'mass_shape'})"
   ],
   "metadata": {
    "collapsed": false
   }
  },
  {
   "cell_type": "code",
   "execution_count": null,
   "outputs": [],
   "source": [
    "Data_cleaning_2 = Data_cleaning_2.rename(columns={'left or right breast':'left_or_right_breast'})"
   ],
   "metadata": {
    "collapsed": false
   }
  },
  {
   "cell_type": "code",
   "execution_count": null,
   "outputs": [],
   "source": [
    "Data_cleaning_2 = Data_cleaning_2.rename(columns={'mass margins':'mass_margins'})"
   ],
   "metadata": {
    "collapsed": false
   }
  },
  {
   "cell_type": "code",
   "execution_count": null,
   "outputs": [],
   "source": [
    "Data_cleaning_2 = Data_cleaning_2.rename(columns={'image view':'image_view'})"
   ],
   "metadata": {
    "collapsed": false
   }
  },
  {
   "cell_type": "code",
   "execution_count": null,
   "outputs": [],
   "source": [
    "Data_cleaning_2 = Data_cleaning_2.rename(columns={'abnormality type':'abnormality_type'})"
   ],
   "metadata": {
    "collapsed": false
   }
  },
  {
   "cell_type": "code",
   "execution_count": null,
   "outputs": [],
   "source": [
    "Data_cleaning_2['left_or_right_breast'] = Data_cleaning_2['left_or_right_breast'].astype('category')"
   ],
   "metadata": {
    "collapsed": false
   }
  },
  {
   "cell_type": "code",
   "execution_count": null,
   "outputs": [],
   "source": [
    "Data_cleaning_2['image_view'] = Data_cleaning_2['image_view'].astype('category')"
   ],
   "metadata": {
    "collapsed": false
   }
  },
  {
   "cell_type": "code",
   "execution_count": null,
   "outputs": [],
   "source": [
    "Data_cleaning_2['mass_margins'] = Data_cleaning_2['mass_margins'].astype('category')"
   ],
   "metadata": {
    "collapsed": false
   }
  },
  {
   "cell_type": "code",
   "execution_count": null,
   "outputs": [],
   "source": [
    "Data_cleaning_2['mass_shape'] = Data_cleaning_2['mass_shape'].astype('category')"
   ],
   "metadata": {
    "collapsed": false
   }
  },
  {
   "cell_type": "code",
   "execution_count": null,
   "outputs": [],
   "source": [
    "Data_cleaning_2['abnormality_type'] = Data_cleaning_2['abnormality_type'].astype('category')"
   ],
   "metadata": {
    "collapsed": false
   }
  },
  {
   "cell_type": "code",
   "execution_count": null,
   "outputs": [],
   "source": [
    "Data_cleaning_2['pathology'] = Data_cleaning_2['pathology'].astype('category')"
   ],
   "metadata": {
    "collapsed": false
   }
  },
  {
   "cell_type": "code",
   "execution_count": null,
   "outputs": [],
   "source": [
    "Data_cleaning_2.isna().sum()\n"
   ],
   "metadata": {
    "collapsed": false
   }
  },
  {
   "cell_type": "code",
   "execution_count": null,
   "outputs": [],
   "source": [
    "Data_cleaning_2['mass_shape'].fillna(method = 'bfill', axis = 0, inplace=True)\n"
   ],
   "metadata": {
    "collapsed": false
   }
  },
  {
   "cell_type": "code",
   "execution_count": null,
   "outputs": [],
   "source": [
    "Data_cleaning_2['mass_margins'].fillna(method = 'bfill', axis = 0, inplace=True)\n"
   ],
   "metadata": {
    "collapsed": false
   }
  },
  {
   "cell_type": "code",
   "execution_count": null,
   "outputs": [],
   "source": [
    "Data_cleaning_2.isna().sum()\n"
   ],
   "metadata": {
    "collapsed": false
   }
  },
  {
   "cell_type": "code",
   "execution_count": null,
   "outputs": [],
   "source": [
    "Data_cleaning_2.info()\n"
   ],
   "metadata": {
    "collapsed": false
   }
  },
  {
   "cell_type": "markdown",
   "source": [
    "Data Visualazations\n"
   ],
   "metadata": {
    "collapsed": false
   }
  },
  {
   "cell_type": "code",
   "execution_count": null,
   "outputs": [],
   "source": [
    "r= pd.DataFrame(dicom_cleaning_data['SeriesDescription'].value_counts())\n",
    "r= r.reset_index()\n",
    "r= r.rename(columns={'SeriesDescription':'SeriesDescription_counts', 'index':'SeriesDescription'})\n",
    "r"
   ],
   "metadata": {
    "collapsed": false
   }
  },
  {
   "cell_type": "code",
   "execution_count": null,
   "outputs": [],
   "source": [
    "ba_1 = px.bar(data_frame=r, x = 'SeriesDescription', y='SeriesDescription_counts', color='SeriesDescription')\n",
    "ba_1.update_layout(title_text='Types of images used', title_x=0.5)\n",
    "ba_1.show()"
   ],
   "metadata": {
    "collapsed": false
   }
  },
  {
   "cell_type": "code",
   "execution_count": null,
   "outputs": [],
   "source": [
    "Data_cleaning_1.info()"
   ],
   "metadata": {
    "collapsed": false
   }
  },
  {
   "cell_type": "code",
   "execution_count": null,
   "outputs": [],
   "source": [
    "Data_cleaning_2 = data_2.copy()"
   ],
   "metadata": {
    "collapsed": false
   }
  },
  {
   "cell_type": "code",
   "execution_count": null,
   "outputs": [],
   "source": [
    "Data_cleaning_2 = Data_cleaning_2.rename(columns={'mass shape':'mass_shape'})"
   ],
   "metadata": {
    "collapsed": false
   }
  },
  {
   "cell_type": "code",
   "execution_count": null,
   "outputs": [],
   "source": [
    "Data_cleaning_2 = Data_cleaning_2.rename(columns={'left or right breast':'left_or_right_breast'})"
   ],
   "metadata": {
    "collapsed": false
   }
  },
  {
   "cell_type": "code",
   "execution_count": null,
   "outputs": [],
   "source": [
    "Data_cleaning_2 = Data_cleaning_2.rename(columns={'mass margins':'mass_margins'})"
   ],
   "metadata": {
    "collapsed": false
   }
  },
  {
   "cell_type": "code",
   "execution_count": null,
   "outputs": [],
   "source": [
    "Data_cleaning_2 = Data_cleaning_2.rename(columns={'image view':'image_view'})"
   ],
   "metadata": {
    "collapsed": false
   }
  },
  {
   "cell_type": "code",
   "execution_count": null,
   "outputs": [],
   "source": [
    "Data_cleaning_2 = Data_cleaning_2.rename(columns={'abnormality type':'abnormality_type'})"
   ],
   "metadata": {
    "collapsed": false
   }
  },
  {
   "cell_type": "code",
   "execution_count": null,
   "outputs": [],
   "source": [
    "Data_cleaning_2['left_or_right_breast'] = Data_cleaning_2['left_or_right_breast'].astype('category')"
   ],
   "metadata": {
    "collapsed": false
   }
  },
  {
   "cell_type": "code",
   "execution_count": null,
   "outputs": [],
   "source": [
    "Data_cleaning_2['image_view'] = Data_cleaning_2['image_view'].astype('category')"
   ],
   "metadata": {
    "collapsed": false
   }
  },
  {
   "cell_type": "code",
   "execution_count": null,
   "outputs": [],
   "source": [
    "Data_cleaning_2['mass_margins'] = Data_cleaning_2['mass_margins'].astype('category')"
   ],
   "metadata": {
    "collapsed": false
   }
  },
  {
   "cell_type": "code",
   "execution_count": null,
   "outputs": [],
   "source": [
    "Data_cleaning_2['mass_shape'] = Data_cleaning_2['mass_shape'].astype('category')"
   ],
   "metadata": {
    "collapsed": false
   }
  },
  {
   "cell_type": "code",
   "execution_count": null,
   "outputs": [],
   "source": [
    "Data_cleaning_2['abnormality_type'] = Data_cleaning_2['abnormality_type'].astype('category')"
   ],
   "metadata": {
    "collapsed": false
   }
  },
  {
   "cell_type": "code",
   "execution_count": null,
   "outputs": [],
   "source": [
    "Data_cleaning_2['pathology'] = Data_cleaning_2['pathology'].astype('category')"
   ],
   "metadata": {
    "collapsed": false
   }
  },
  {
   "cell_type": "code",
   "execution_count": null,
   "outputs": [],
   "source": [
    "Data_cleaning_2.isna().sum()\n"
   ],
   "metadata": {
    "collapsed": false
   }
  },
  {
   "cell_type": "code",
   "execution_count": null,
   "outputs": [],
   "source": [
    "Data_cleaning_2['mass_shape'].fillna(method = 'bfill', axis = 0, inplace=True)\n"
   ],
   "metadata": {
    "collapsed": false
   }
  },
  {
   "cell_type": "code",
   "execution_count": null,
   "outputs": [],
   "source": [
    "Data_cleaning_2['mass_margins'].fillna(method = 'bfill', axis = 0, inplace=True)\n"
   ],
   "metadata": {
    "collapsed": false
   }
  },
  {
   "cell_type": "code",
   "execution_count": null,
   "outputs": [],
   "source": [
    "Data_cleaning_2.isna().sum()\n"
   ],
   "metadata": {
    "collapsed": false
   }
  },
  {
   "cell_type": "code",
   "execution_count": null,
   "outputs": [],
   "source": [
    "Data_cleaning_2.info()\n"
   ],
   "metadata": {
    "collapsed": false
   }
  },
  {
   "cell_type": "markdown",
   "source": [
    "Data Visualizations\n"
   ],
   "metadata": {
    "collapsed": false
   }
  },
  {
   "cell_type": "code",
   "execution_count": null,
   "outputs": [],
   "source": [
    "r= pd.DataFrame(dicom_cleaning_data['SeriesDescription'].value_counts())\n",
    "r= r.reset_index()\n",
    "r= r.rename(columns={'SeriesDescription':'SeriesDescription_counts', 'index':'SeriesDescription'})\n",
    "r"
   ],
   "metadata": {
    "collapsed": false
   }
  },
  {
   "cell_type": "code",
   "execution_count": null,
   "outputs": [],
   "source": [
    "ba_1 = px.bar(data_frame=r, x = 'SeriesDescription', y='SeriesDescription_counts', color='SeriesDescription')\n",
    "ba_1.update_layout(title_text='Types of images used', title_x=0.5)\n",
    "ba_1.show()"
   ],
   "metadata": {
    "collapsed": false
   }
  },
  {
   "cell_type": "markdown",
   "source": [
    "from cbis-ddsm-breast-cancer-image-dataset : This study depends on Three types of images ; cropped images , ROI images , Full mammogram images . from this graph we conclude that cropped images is the most used between them"
   ],
   "metadata": {
    "collapsed": false
   }
  },
  {
   "cell_type": "code",
   "execution_count": null,
   "outputs": [],
   "source": [
    "q= pd.DataFrame(dicom_cleaning_data['PatientOrientation'].value_counts())\n",
    "q= q.reset_index()\n",
    "q= q.rename(columns={'PatientOrientation':'PatientOrientation_counts', 'index':'PatientOrientation'})\n",
    "q"
   ],
   "metadata": {
    "collapsed": false
   }
  },
  {
   "cell_type": "code",
   "execution_count": null,
   "outputs": [],
   "source": [
    "qfig =px.pie(data_frame=q, names= 'PatientOrientation', values='PatientOrientation_counts', color = 'PatientOrientation')\n",
    "qfig.update_layout(title_text='The percenyages of PatientOrientation ', title_x=0.5)\n",
    "qfig.show()"
   ],
   "metadata": {
    "collapsed": false
   }
  },
  {
   "cell_type": "markdown",
   "source": [
    "from cbis-ddsm-breast-cancer-image-dataset in general : PatientOrientation (image_view) from the above graph MLO is much used than CC"
   ],
   "metadata": {
    "collapsed": false
   }
  },
  {
   "cell_type": "code",
   "execution_count": null,
   "outputs": [],
   "source": [
    "f= pd.DataFrame(dicom_cleaning_data['BodyPartExamined'].value_counts())\n",
    "f= f.reset_index()\n",
    "f= f.rename(columns={'BodyPartExamined':'BodyPartExamined_counts', 'index':'Breast part Examined'})\n",
    "f"
   ],
   "metadata": {
    "collapsed": false
   }
  },
  {
   "cell_type": "code",
   "execution_count": null,
   "outputs": [],
   "source": [
    "ba = px.bar(data_frame=f, x = 'Breast part Examined', y='BodyPartExamined_counts', color='Breast part Examined')\n",
    "ba.update_layout(title_text='Breast Parts Examined ', title_x=0.5,yaxis=dict(type='log'))\n",
    "ba.show()"
   ],
   "metadata": {
    "collapsed": false
   }
  },
  {
   "cell_type": "markdown",
   "source": [
    "from the above gragh : The Most Part Examined is Breast(All;left and also right)"
   ],
   "metadata": {
    "collapsed": false
   }
  },
  {
   "cell_type": "code",
   "execution_count": null,
   "outputs": [],
   "source": [
    "data_insight_2 = pd.DataFrame({'abnormality':[Data_cleaning_1.abnormality_type[0],Data_cleaning_2.abnormality_type[0]],\n",
    "                               'counts_of_abnormalties':[len(Data_cleaning_1),len(Data_cleaning_2)]})\n",
    "data_insight_2"
   ],
   "metadata": {
    "collapsed": false
   }
  },
  {
   "cell_type": "code",
   "execution_count": null,
   "outputs": [],
   "source": [
    "bar_2 =px.bar(data_frame=data_insight_2, x = 'abnormality', y='counts_of_abnormalties', color = 'abnormality')\n",
    "bar_2.update_layout(title_text='Types of abnormalites of cancer', title_x=0.5)\n",
    "bar_2.show()"
   ],
   "metadata": {
    "collapsed": false
   }
  },
  {
   "cell_type": "markdown",
   "source": [
    "line 78 at https://www.kaggle.com/code/abeerabdelnasser/breast-cancer\n"
   ],
   "metadata": {
    "collapsed": false
   }
  },
  {
   "cell_type": "code",
   "execution_count": null,
   "outputs": [],
   "source": [
    "Data_cleaning_1.info()"
   ],
   "metadata": {
    "collapsed": false
   }
  },
  {
   "cell_type": "code",
   "execution_count": null,
   "outputs": [],
   "source": [
    "Data_cleaning_2 = data_2.copy()"
   ],
   "metadata": {
    "collapsed": false
   }
  },
  {
   "cell_type": "code",
   "execution_count": null,
   "outputs": [],
   "source": [
    "Data_cleaning_2 = Data_cleaning_2.rename(columns={'mass shape':'mass_shape'})"
   ],
   "metadata": {
    "collapsed": false
   }
  },
  {
   "cell_type": "code",
   "execution_count": null,
   "outputs": [],
   "source": [
    "Data_cleaning_2 = Data_cleaning_2.rename(columns={'left or right breast':'left_or_right_breast'})"
   ],
   "metadata": {
    "collapsed": false
   }
  },
  {
   "cell_type": "code",
   "execution_count": null,
   "outputs": [],
   "source": [
    "Data_cleaning_2 = Data_cleaning_2.rename(columns={'mass margins':'mass_margins'})"
   ],
   "metadata": {
    "collapsed": false
   }
  },
  {
   "cell_type": "code",
   "execution_count": null,
   "outputs": [],
   "source": [
    "Data_cleaning_2 = Data_cleaning_2.rename(columns={'image view':'image_view'})"
   ],
   "metadata": {
    "collapsed": false
   }
  },
  {
   "cell_type": "code",
   "execution_count": null,
   "outputs": [],
   "source": [
    "Data_cleaning_2 = Data_cleaning_2.rename(columns={'abnormality type':'abnormality_type'})"
   ],
   "metadata": {
    "collapsed": false
   }
  },
  {
   "cell_type": "code",
   "execution_count": null,
   "outputs": [],
   "source": [
    "Data_cleaning_2['left_or_right_breast'] = Data_cleaning_2['left_or_right_breast'].astype('category')"
   ],
   "metadata": {
    "collapsed": false
   }
  },
  {
   "cell_type": "code",
   "execution_count": null,
   "outputs": [],
   "source": [
    "Data_cleaning_2['image_view'] = Data_cleaning_2['image_view'].astype('category')"
   ],
   "metadata": {
    "collapsed": false
   }
  },
  {
   "cell_type": "code",
   "execution_count": null,
   "outputs": [],
   "source": [
    "Data_cleaning_2['mass_margins'] = Data_cleaning_2['mass_margins'].astype('category')"
   ],
   "metadata": {
    "collapsed": false
   }
  },
  {
   "cell_type": "code",
   "execution_count": null,
   "outputs": [],
   "source": [
    "Data_cleaning_2['mass_shape'] = Data_cleaning_2['mass_shape'].astype('category')"
   ],
   "metadata": {
    "collapsed": false
   }
  },
  {
   "cell_type": "code",
   "execution_count": null,
   "outputs": [],
   "source": [
    "Data_cleaning_2['abnormality_type'] = Data_cleaning_2['abnormality_type'].astype('category')"
   ],
   "metadata": {
    "collapsed": false
   }
  },
  {
   "cell_type": "code",
   "execution_count": null,
   "outputs": [],
   "source": [
    "Data_cleaning_2['pathology'] = Data_cleaning_2['pathology'].astype('category')"
   ],
   "metadata": {
    "collapsed": false
   }
  },
  {
   "cell_type": "code",
   "execution_count": null,
   "outputs": [],
   "source": [
    "Data_cleaning_2.isna().sum()\n"
   ],
   "metadata": {
    "collapsed": false
   }
  },
  {
   "cell_type": "code",
   "execution_count": null,
   "outputs": [],
   "source": [
    "Data_cleaning_2['mass_shape'].fillna(method = 'bfill', axis = 0, inplace=True)\n"
   ],
   "metadata": {
    "collapsed": false
   }
  },
  {
   "cell_type": "code",
   "execution_count": null,
   "outputs": [],
   "source": [
    "Data_cleaning_2['mass_margins'].fillna(method = 'bfill', axis = 0, inplace=True)\n"
   ],
   "metadata": {
    "collapsed": false
   }
  },
  {
   "cell_type": "code",
   "execution_count": null,
   "outputs": [],
   "source": [
    "Data_cleaning_2.isna().sum()\n"
   ],
   "metadata": {
    "collapsed": false
   }
  },
  {
   "cell_type": "code",
   "execution_count": null,
   "outputs": [],
   "source": [
    "Data_cleaning_2.info()\n"
   ],
   "metadata": {
    "collapsed": false
   }
  },
  {
   "cell_type": "markdown",
   "source": [
    "Data Visualizations\n"
   ],
   "metadata": {
    "collapsed": false
   }
  },
  {
   "cell_type": "code",
   "execution_count": null,
   "outputs": [],
   "source": [
    "r= pd.DataFrame(dicom_cleaning_data['SeriesDescription'].value_counts())\n",
    "r= r.reset_index()\n",
    "r= r.rename(columns={'SeriesDescription':'SeriesDescription_counts', 'index':'SeriesDescription'})\n",
    "r"
   ],
   "metadata": {
    "collapsed": false
   }
  },
  {
   "cell_type": "code",
   "execution_count": null,
   "outputs": [],
   "source": [
    "ba_1 = px.bar(data_frame=r, x = 'SeriesDescription', y='SeriesDescription_counts', color='SeriesDescription')\n",
    "ba_1.update_layout(title_text='Types of images used', title_x=0.5)\n",
    "ba_1.show()"
   ],
   "metadata": {
    "collapsed": false
   }
  },
  {
   "cell_type": "markdown",
   "source": [
    "from cbis-ddsm-breast-cancer-image-dataset : This study depends on Three types of images ; cropped images , ROI images , Full mammogram images . from this graph we conclude that cropped images is the most used between them"
   ],
   "metadata": {
    "collapsed": false
   }
  },
  {
   "cell_type": "code",
   "execution_count": null,
   "outputs": [],
   "source": [
    "q= pd.DataFrame(dicom_cleaning_data['PatientOrientation'].value_counts())\n",
    "q= q.reset_index()\n",
    "q= q.rename(columns={'PatientOrientation':'PatientOrientation_counts', 'index':'PatientOrientation'})\n",
    "q"
   ],
   "metadata": {
    "collapsed": false
   }
  },
  {
   "cell_type": "code",
   "execution_count": null,
   "outputs": [],
   "source": [
    "qfig =px.pie(data_frame=q, names= 'PatientOrientation', values='PatientOrientation_counts', color = 'PatientOrientation')\n",
    "qfig.update_layout(title_text='The percenyages of PatientOrientation ', title_x=0.5)\n",
    "qfig.show()"
   ],
   "metadata": {
    "collapsed": false
   }
  },
  {
   "cell_type": "markdown",
   "source": [
    "from cbis-ddsm-breast-cancer-image-dataset in general : PatientOrientation (image_view) from the above graph MLO is much used than CC"
   ],
   "metadata": {
    "collapsed": false
   }
  },
  {
   "cell_type": "code",
   "execution_count": null,
   "outputs": [],
   "source": [
    "f= pd.DataFrame(dicom_cleaning_data['BodyPartExamined'].value_counts())\n",
    "f= f.reset_index()\n",
    "f= f.rename(columns={'BodyPartExamined':'BodyPartExamined_counts', 'index':'Breast part Examined'})\n",
    "f"
   ],
   "metadata": {
    "collapsed": false
   }
  },
  {
   "cell_type": "code",
   "execution_count": null,
   "outputs": [],
   "source": [
    "ba = px.bar(data_frame=f, x = 'Breast part Examined', y='BodyPartExamined_counts', color='Breast part Examined')\n",
    "ba.update_layout(title_text='Breast Parts Examined ', title_x=0.5,yaxis=dict(type='log'))\n",
    "ba.show()"
   ],
   "metadata": {
    "collapsed": false
   }
  },
  {
   "cell_type": "markdown",
   "source": [
    "from the above gragh : The Most Part Examined is Breast(All;left and also right)"
   ],
   "metadata": {
    "collapsed": false
   }
  },
  {
   "cell_type": "code",
   "execution_count": null,
   "outputs": [],
   "source": [
    "data_insight_2 = pd.DataFrame({'abnormality':[Data_cleaning_1.abnormality_type[0],Data_cleaning_2.abnormality_type[0]],\n",
    "                               'counts_of_abnormalties':[len(Data_cleaning_1),len(Data_cleaning_2)]})\n",
    "data_insight_2"
   ],
   "metadata": {
    "collapsed": false
   }
  },
  {
   "cell_type": "code",
   "execution_count": null,
   "outputs": [],
   "source": [
    "bar_2 =px.bar(data_frame=data_insight_2, x = 'abnormality', y='counts_of_abnormalties', color = 'abnormality')\n",
    "bar_2.update_layout(title_text='Types of abnormalites of cancer', title_x=0.5)\n",
    "bar_2.show()"
   ],
   "metadata": {
    "collapsed": false
   }
  },
  {
   "cell_type": "markdown",
   "source": [
    "fom this gragh : They are two abnormalities of breast cancer ; Calcification abnormality and Mass abnormality . and Most cases are with calcification abnormalities"
   ],
   "metadata": {
    "collapsed": false
   }
  },
  {
   "cell_type": "code",
   "execution_count": null,
   "outputs": [],
   "source": [
    "x = Data_cleaning_1.left_or_right_breast.value_counts().RIGHT\n",
    "y = Data_cleaning_1.left_or_right_breast.value_counts().LEFT\n",
    "print(x,y)"
   ],
   "metadata": {
    "collapsed": false
   }
  },
  {
   "cell_type": "code",
   "execution_count": null,
   "outputs": [],
   "source": [
    "data_insight_3 = pd.DataFrame({'left_or_right_breast':['RIGHt','LEFT'] , 'Counts':[x,y]})\n",
    "data_insight_3"
   ],
   "metadata": {
    "collapsed": false
   }
  },
  {
   "cell_type": "code",
   "execution_count": null,
   "outputs": [],
   "source": [
    "insight_3 = px.bar(data_insight_3, y= 'Counts', x='left_or_right_breast',color = 'left_or_right_breast')\n",
    "insight_3.update_layout(title_text=' clacfication cancer position of breast ', title_x=0.5)\n",
    "insight_3.show()\n"
   ],
   "metadata": {
    "collapsed": false
   }
  },
  {
   "cell_type": "code",
   "execution_count": null,
   "outputs": [],
   "source": [
    "z = pd.DataFrame(Data_cleaning_1['calc_type'].value_counts())\n",
    "z = z.reset_index()\n",
    "z= z.rename(columns={'calc_type':'calc_type_counts'})\n",
    "z\n"
   ],
   "metadata": {
    "collapsed": false
   }
  },
  {
   "cell_type": "code",
   "execution_count": null,
   "outputs": [],
   "source": [
    "bar_3 =px.bar(data_frame=z, y = 'index', x='calc_type_counts', color = 'index', orientation='h')\n",
    "bar_3.update_layout(title_text='Types of calcification cancer', title_x=0.5,xaxis=dict(type='log'))\n",
    "bar_3.show()"
   ],
   "metadata": {
    "collapsed": false
   }
  },
  {
   "cell_type": "markdown",
   "source": [
    "Calcfication cancer has 45 types , Most of them obtain is PLEOMORPHIC\n"
   ],
   "metadata": {
    "collapsed": false
   }
  },
  {
   "cell_type": "code",
   "execution_count": null,
   "outputs": [],
   "source": [
    "g = pd.DataFrame(Data_cleaning_1['calc_distribution'].value_counts())\n",
    "g = g.reset_index()\n",
    "g= g.rename(columns={'calc_distribution':'calc_distribution_counts'})\n",
    "g"
   ],
   "metadata": {
    "collapsed": false
   }
  },
  {
   "cell_type": "code",
   "execution_count": null,
   "outputs": [],
   "source": [
    "bar_4 =px.bar(data_frame=g, x = 'index', y='calc_distribution_counts', color = 'index', orientation='v')\n",
    "bar_4.update_layout(title_text='Types of Distribution of calcification  cancer', title_x=0.5,yaxis=dict(type='log'))\n",
    "bar_4.show()"
   ],
   "metadata": {
    "collapsed": false
   }
  },
  {
   "cell_type": "markdown",
   "source": [
    "for calcification cancer , there are 9 Types of Distribution of calcification cancer , Most of them obtained is Clustered"
   ],
   "metadata": {
    "collapsed": false
   }
  },
  {
   "cell_type": "code",
   "execution_count": null,
   "outputs": [],
   "source": [
    "I = pd.DataFrame(Data_cleaning_1['breast_density'].value_counts())\n",
    "I =I.reset_index()\n",
    "I= I.rename(columns={'index':'Breast density','breast_density':'counts'})\n",
    "I\n"
   ],
   "metadata": {
    "collapsed": false
   }
  },
  {
   "cell_type": "code",
   "execution_count": null,
   "outputs": [],
   "source": [
    "bar_5 =px.pie(data_frame=I, names= 'Breast density', values='counts', color = 'Breast density')\n",
    "bar_5.update_layout(title_text='The percenyages of Breast Density of calcification  cancer', title_x=0.5)\n",
    "bar_5.show()\n"
   ],
   "metadata": {
    "collapsed": false
   }
  },
  {
   "cell_type": "markdown",
   "source": [
    "For calcification cancer , There are 4 breast Density , Most of them found is 3\n"
   ],
   "metadata": {
    "collapsed": false
   }
  },
  {
   "cell_type": "code",
   "execution_count": null,
   "outputs": [],
   "source": [
    "h = pd.DataFrame(Data_cleaning_1['assessment'].value_counts())\n",
    "h =h.reset_index()\n",
    "h=h.rename(columns={'index':'Breast assessment','assessment':'counts'})\n",
    "h\n"
   ],
   "metadata": {
    "collapsed": false
   }
  },
  {
   "cell_type": "code",
   "execution_count": null,
   "outputs": [],
   "source": [
    "fig =px.pie(data_frame=h, values = 'counts', names='Breast assessment', color = 'Breast assessment')\n",
    "fig.update_layout(title_text='The Percentages of assessment Breast calcification  cancer', title_x=0.5)\n",
    "fig.show()\n"
   ],
   "metadata": {
    "collapsed": false
   }
  },
  {
   "cell_type": "markdown",
   "source": [
    "For calcfication cancer , There are 5 Types of assessments , Most of them obtains is 4\n"
   ],
   "metadata": {
    "collapsed": false
   }
  },
  {
   "cell_type": "code",
   "execution_count": null,
   "outputs": [],
   "source": [
    "v = pd.DataFrame(Data_cleaning_1['subtlety'].value_counts())\n",
    "v =v.reset_index()\n",
    "v=v.rename(columns={'index':'Breast subtlety','subtlety':'counts'})\n",
    "v\n"
   ],
   "metadata": {
    "collapsed": false
   }
  },
  {
   "cell_type": "code",
   "execution_count": null,
   "outputs": [],
   "source": [
    "fig_1=px.pie(data_frame=v, values = 'counts', names='Breast subtlety', color = 'Breast subtlety')\n",
    "fig_1.update_layout(title_text='The Percentages of subtlety Breast calcification  cancer', title_x=0.5)\n",
    "fig_1.show()\n"
   ],
   "metadata": {
    "collapsed": false
   }
  },
  {
   "cell_type": "markdown",
   "source": [
    "For calcification cancer , There are 5 Subtlety , Most of them found is 3\n"
   ],
   "metadata": {
    "collapsed": false
   }
  },
  {
   "cell_type": "code",
   "execution_count": null,
   "outputs": [],
   "source": [
    "a = pd.DataFrame(Data_cleaning_1['pathology'].value_counts())\n",
    "a =a.reset_index()\n",
    "a=a.rename(columns={'index':'pathology','pathology':'counts'})\n",
    "a\n"
   ],
   "metadata": {
    "collapsed": false
   }
  },
  {
   "cell_type": "code",
   "execution_count": null,
   "outputs": [],
   "source": [
    "fig_2 =px.bar(data_frame=a, x = 'pathology', y='counts', color = 'pathology', orientation='v')\n",
    "fig_2.update_layout(title_text='pathology of calcification  cancer', title_x=0.5)\n",
    "fig_2.show()\n"
   ],
   "metadata": {
    "collapsed": false
   }
  },
  {
   "cell_type": "markdown",
   "source": [],
   "metadata": {
    "collapsed": false
   }
  },
  {
   "cell_type": "markdown",
   "source": [
    "For calcification Cancer ,In Most Cases caner is Malignant"
   ],
   "metadata": {
    "collapsed": false
   }
  },
  {
   "cell_type": "code",
   "execution_count": null,
   "outputs": [],
   "source": [
    "b = pd.DataFrame(Data_cleaning_1['image_view'].value_counts())\n",
    "b =b.reset_index()\n",
    "b=b.rename(columns={'index':'image_view','image_view':'counts'})\n",
    "b"
   ],
   "metadata": {
    "collapsed": false
   }
  },
  {
   "cell_type": "code",
   "execution_count": null,
   "outputs": [],
   "source": [
    "fig_3=px.pie(data_frame=b, values = 'counts', names='image_view', color = 'image_view')\n",
    "fig_3.update_layout(title_text='The Percentages of image_view used in calcification  cancer', title_x=0.5)\n",
    "fig_3.show()"
   ],
   "metadata": {
    "collapsed": false
   }
  },
  {
   "cell_type": "markdown",
   "source": [
    "For calcification Cancer , Most image view used is MLO (52.2%)\n",
    "\n"
   ],
   "metadata": {
    "collapsed": false
   }
  },
  {
   "cell_type": "code",
   "execution_count": null,
   "outputs": [],
   "source": [
    "j = pd.DataFrame(Data_cleaning_2['breast_density'].value_counts())\n",
    "j =j.reset_index()\n",
    "j= j.rename(columns={'index':'Breast density','breast_density':'counts'})\n",
    "j"
   ],
   "metadata": {
    "collapsed": false
   }
  },
  {
   "cell_type": "code",
   "execution_count": null,
   "outputs": [],
   "source": [
    "fig_4 =px.pie(data_frame=j, names= 'Breast density', values='counts', color = 'Breast density')\n",
    "fig_4.update_layout(title_text='The percenyages of Breast Density of mass  cancer', title_x=0.5)\n",
    "fig_4.show()\n"
   ],
   "metadata": {
    "collapsed": false
   }
  },
  {
   "cell_type": "markdown",
   "source": [
    "for Mass Cancer , There are 4 values of Density Breast , Most of them found is 2"
   ],
   "metadata": {
    "collapsed": false
   }
  },
  {
   "cell_type": "code",
   "execution_count": null,
   "outputs": [],
   "source": [
    "k = pd.DataFrame(Data_cleaning_2['left_or_right_breast'].value_counts())\n",
    "k =k.reset_index()\n",
    "k= k.rename(columns={'index':'left_or_right_breast','left_or_right_breast':'counts'})\n",
    "k\n"
   ],
   "metadata": {
    "collapsed": false
   }
  },
  {
   "cell_type": "code",
   "execution_count": null,
   "outputs": [],
   "source": [
    "fig_5 =px.bar(data_frame=k, x = 'left_or_right_breast', y='counts', color = 'left_or_right_breast', orientation='v')\n",
    "fig_5.update_layout(title_text='position of mass cancer', title_x=0.5)\n",
    "fig_5.show()\n"
   ],
   "metadata": {
    "collapsed": false
   }
  },
  {
   "cell_type": "markdown",
   "source": [
    "For Mass Cancer, Most cases ,Cancer is the Right Breast\n",
    "\n"
   ],
   "metadata": {
    "collapsed": false
   }
  },
  {
   "cell_type": "code",
   "execution_count": null,
   "outputs": [],
   "source": [
    "p = pd.DataFrame(Data_cleaning_2['pathology'].value_counts())\n",
    "p =p.reset_index()\n",
    "p=p.rename(columns={'index':'pathology','pathology':'counts'})\n",
    "p\n"
   ],
   "metadata": {
    "collapsed": false
   }
  },
  {
   "cell_type": "code",
   "execution_count": null,
   "outputs": [],
   "source": [
    "fig_6 =px.bar(data_frame=p, x = 'pathology', y='counts', color = 'pathology', orientation='v')\n",
    "fig_6.update_layout(title_text='pathology of mass  cancer', title_x=0.5)\n",
    "fig_6.show()\n"
   ],
   "metadata": {
    "collapsed": false
   }
  },
  {
   "cell_type": "markdown",
   "source": [
    "for Mass Cancer , Most Cases of cancer is Malignant\n",
    "\n"
   ],
   "metadata": {
    "collapsed": false
   }
  },
  {
   "cell_type": "code",
   "execution_count": null,
   "outputs": [],
   "source": [
    "c = pd.DataFrame(Data_cleaning_2['subtlety'].value_counts())\n",
    "c =c.reset_index()\n",
    "c=c.rename(columns={'index':'Breast subtlety','subtlety':'counts'})"
   ],
   "metadata": {
    "collapsed": false
   }
  },
  {
   "cell_type": "code",
   "execution_count": null,
   "outputs": [],
   "source": [
    "fig_7=px.pie(data_frame=c, values = 'counts', names='Breast subtlety', color = 'Breast subtlety')\n",
    "fig_7.update_layout(title_text='The Percentages of subtlety Breast mass  cancer', title_x=0.5)\n",
    "fig_7.show()\n"
   ],
   "metadata": {
    "collapsed": false
   }
  },
  {
   "cell_type": "markdown",
   "source": [
    "For Mass Cancer , There are ^ Subtlety , Most of them found is%\n"
   ],
   "metadata": {
    "collapsed": false
   }
  },
  {
   "cell_type": "code",
   "execution_count": null,
   "outputs": [],
   "source": [
    "o = pd.DataFrame(Data_cleaning_2['assessment'].value_counts())\n",
    "o =o.reset_index()\n",
    "o=o.rename(columns={'index':'Breast assessment','assessment':'counts'})\n",
    "o\n"
   ],
   "metadata": {
    "collapsed": false
   }
  },
  {
   "cell_type": "code",
   "execution_count": null,
   "outputs": [],
   "source": [
    "fig_8 =px.pie(data_frame=o, values = 'counts', names='Breast assessment', color = 'Breast assessment')\n",
    "fig_8.update_layout(title_text='The Percentages of assessment Breast mass cancer', title_x=0.5)\n",
    "fig_8.show()\n"
   ],
   "metadata": {
    "collapsed": false
   }
  },
  {
   "cell_type": "markdown",
   "source": [
    "for Mass Cancer, There are 6 assessment , Most of them found is 4\n"
   ],
   "metadata": {
    "collapsed": false
   }
  },
  {
   "cell_type": "code",
   "execution_count": null,
   "outputs": [],
   "source": [
    "s = pd.DataFrame(Data_cleaning_2['mass_shape'].value_counts())\n",
    "s = s.reset_index()\n",
    "s= s.rename(columns={'mass_shape':'mass_shape_counts'})\n",
    "s\n"
   ],
   "metadata": {
    "collapsed": false
   }
  },
  {
   "cell_type": "code",
   "execution_count": null,
   "outputs": [],
   "source": [
    "fig_9 =px.bar(data_frame=s, y = 'index', x='mass_shape_counts', color = 'index', orientation='h')\n",
    "fig_9.update_layout(title_text='Types of Mass_shape of mass cancer', title_x=0.5,xaxis=dict(type='log'))\n",
    "fig_9.show()\n"
   ],
   "metadata": {
    "collapsed": false
   }
  },
  {
   "cell_type": "markdown",
   "source": [
    "For Mass Cancer , There are 18 types of Mass_shape , Most off them found is IRREGULAR\n"
   ],
   "metadata": {
    "collapsed": false
   }
  },
  {
   "cell_type": "code",
   "execution_count": null,
   "outputs": [],
   "source": [
    "u = pd.DataFrame(Data_cleaning_2['mass_margins'].value_counts())\n",
    "u = u.reset_index()\n",
    "u= u.rename(columns={'index':'mass_margins','mass_margins':'counts'})\n",
    "u\n"
   ],
   "metadata": {
    "collapsed": false
   }
  },
  {
   "cell_type": "code",
   "execution_count": null,
   "outputs": [],
   "source": [
    "fig_10=px.bar(data_frame=u, y = 'mass_margins', x='counts', color = 'mass_margins', orientation='h')\n",
    "fig_10.update_layout(title_text='Types of Mass_margins of mass cancer', title_x=0.5,xaxis=dict(type='log'))\n",
    "fig_10.show()\n"
   ],
   "metadata": {
    "collapsed": false
   }
  },
  {
   "cell_type": "markdown",
   "source": [
    "for Mass Cancer , There are 15 type of Mass_margins , most of them found is CIRCUMSCRIBED\n"
   ],
   "metadata": {
    "collapsed": false
   }
  },
  {
   "cell_type": "code",
   "execution_count": null,
   "outputs": [],
   "source": [
    "t= pd.DataFrame(Data_cleaning_2['image_view'].value_counts())\n",
    "t=t.reset_index()\n",
    "t=t.rename(columns={'index':'image_view','image_view':'counts'})\n",
    "t\n"
   ],
   "metadata": {
    "collapsed": false
   }
  },
  {
   "cell_type": "code",
   "execution_count": null,
   "outputs": [],
   "source": [
    "fig_11=px.pie(data_frame=t, values = 'counts', names='image_view', color = 'image_view')\n",
    "fig_11.update_layout(title_text='The Percentages of image_view used in mass cancer', title_x=0.5)\n",
    "fig_11.show()\n"
   ],
   "metadata": {
    "collapsed": false
   }
  },
  {
   "cell_type": "markdown",
   "source": [
    "For Mass cancer , Most image_view used is MLO (53.9%)\n",
    "\n"
   ],
   "metadata": {
    "collapsed": false
   }
  },
  {
   "cell_type": "markdown",
   "source": [
    "<h1>Apo edw kai katw den trexi tipota, ola stirizontai sto idc opote theloume allo me ddsm.</h1>"
   ],
   "metadata": {
    "collapsed": false
   }
  },
  {
   "cell_type": "markdown",
   "source": [
    "bellow we are trying to cast the data"
   ],
   "metadata": {
    "collapsed": false
   }
  },
  {
   "cell_type": "markdown",
   "source": [],
   "metadata": {
    "collapsed": false
   }
  },
  {
   "cell_type": "markdown",
   "source": [],
   "metadata": {
    "collapsed": false
   }
  },
  {
   "cell_type": "code",
   "execution_count": null,
   "outputs": [],
   "source": [
    "breast_img=[]\n",
    "for dirname, _, filenames in os.walk('CBIS-DDSM\\jpeg'):\n",
    "    for filename in filenames:\n",
    "        print(os.path.join(dirname, filename))\n",
    "        breast_img.append(os.path.join(dirname, filename))"
   ],
   "metadata": {
    "collapsed": false
   }
  },
  {
   "cell_type": "code",
   "execution_count": null,
   "outputs": [],
   "source": [
    "for imgname in breast_img[:3]:\n",
    "    print(imgname)"
   ],
   "metadata": {
    "collapsed": false
   }
  },
  {
   "cell_type": "code",
   "execution_count": null,
   "outputs": [],
   "source": [
    "non_can_img = []\n",
    "can_img = []\n",
    "\n",
    "for img in breast_img:\n",
    "    if img[-5] == '0' :\n",
    "        non_can_img.append(img)\n",
    "\n",
    "    elif img[-5] == '1' :\n",
    "        can_img.append(img)"
   ],
   "metadata": {
    "collapsed": false
   }
  },
  {
   "cell_type": "code",
   "execution_count": null,
   "outputs": [],
   "source": [
    "non_can_num = len(non_can_img)  # No cancer\n",
    "can_num = len(can_img)   # Cancer\n",
    "\n",
    "total_img_num = non_can_num + can_num\n",
    "\n",
    "print('Number of Images of no cancer: {}' .format(non_can_num))   # images of Non cancer\n",
    "print('Number of Images of cancer : {}' .format(can_num))   # images of cancer\n",
    "print('Total Number of Images : {}' .format(total_img_num))"
   ],
   "metadata": {
    "collapsed": false
   }
  },
  {
   "cell_type": "code",
   "execution_count": null,
   "outputs": [],
   "source": [
    "from keras_preprocessing import image\n",
    "\n",
    "plt.figure(figsize = (15, 15))\n",
    "\n",
    "some_non = np.random.randint(0, len(non_can_img), 18)\n",
    "some_can = np.random.randint(0, len(can_img), 18)\n",
    "\n",
    "s = 0\n",
    "for num in some_non:\n",
    "\n",
    "        img = image.load_img((non_can_img[num]), target_size=(100, 100))\n",
    "        img = image.img_to_array(img)\n",
    "\n",
    "        plt.subplot(6, 6, 2*s+1)\n",
    "        plt.axis('off')\n",
    "        plt.title('no cancer')\n",
    "        plt.imshow(img.astype('uint8'))\n",
    "        s += 1\n",
    "\n",
    "s = 1\n",
    "for num in some_can:\n",
    "\n",
    "        img = image.load_img((can_img[num]), target_size=(100, 100))\n",
    "        img = image.img_to_array(img)\n",
    "        plt.subplot(6, 6, 2*s)\n",
    "        plt.axis('off')\n",
    "        plt.title('cancer')\n",
    "        plt.imshow(img.astype('uint8'))\n",
    "        s += 1\n"
   ],
   "metadata": {
    "collapsed": false
   }
  },
  {
   "cell_type": "code",
   "execution_count": null,
   "outputs": [],
   "source": [
    "from matplotlib.image import imread\n",
    "import cv2\n",
    "\n",
    "some_non_img = random.sample(non_can_img, len(non_can_img))\n",
    "some_can_img = random.sample(can_img, len(can_img))\n",
    "\n",
    "non_img_arr = []\n",
    "can_img_arr = []\n",
    "\n",
    "for img in some_non_img:\n",
    "\n",
    "    n_img = cv2.imread(img, cv2.IMREAD_COLOR)\n",
    "    n_img_size = cv2.resize(n_img, (50, 50), interpolation = cv2.INTER_LINEAR)\n",
    "    non_img_arr.append([n_img_size, 0])\n",
    "\n",
    "for img in some_can_img:\n",
    "\n",
    "    c_img = cv2.imread(img, cv2.IMREAD_COLOR)\n",
    "    c_img_size = cv2.resize(c_img, (50, 50), interpolation = cv2.INTER_LINEAR)\n",
    "    can_img_arr.append([c_img_size, 1])"
   ],
   "metadata": {
    "collapsed": false
   }
  },
  {
   "cell_type": "code",
   "execution_count": null,
   "outputs": [],
   "source": [
    "X = []\n",
    "y = []\n",
    "\n",
    "breast_img_arr = np.concatenate((non_img_arr, can_img_arr))\n",
    "random.shuffle(breast_img_arr)\n",
    "\n",
    "for feature, label in breast_img_arr:\n",
    "    X.append(feature)\n",
    "    y.append(label)\n",
    "\n",
    "X = np.array(X)\n",
    "y = np.array(y)\n",
    "\n",
    "print('X shape : {}' .format(X.shape))"
   ],
   "metadata": {
    "collapsed": false
   }
  },
  {
   "cell_type": "code",
   "execution_count": null,
   "outputs": [],
   "source": [
    "from sklearn.model_selection import train_test_split\n",
    "from keras.utils.np_utils import to_categorical\n",
    "\n",
    "X_train, X_test, y_train, y_test = train_test_split(X, y, test_size = 0.25, random_state = 42)\n",
    "\n",
    "rate = 0.5\n",
    "num = int(X.shape[0] * rate)\n",
    "\n",
    "y_train = to_categorical(y_train, 2)\n",
    "y_test = to_categorical(y_test, 2)\n",
    "\n",
    "\n",
    "print('X_train shape : {}' .format(X_train.shape))\n",
    "print('X_test shape : {}' .format(X_test.shape))\n",
    "print('y_train shape : {}' .format(y_train.shape))\n",
    "print('y_test shape : {}' .format(y_test.shape))\n"
   ],
   "metadata": {
    "collapsed": false
   }
  },
  {
   "cell_type": "code",
   "execution_count": null,
   "outputs": [],
   "source": [
    "model = tf.keras.Sequential([\n",
    "tf.keras.layers.Conv2D(32, (3, 3), padding = 'same', activation = 'relu', input_shape = (50, 50, 3)),\n",
    "tf.keras.layers.MaxPooling2D(strides = 2),\n",
    "tf.keras.layers.Conv2D(64, (3, 3), padding = 'same', activation = 'relu'),\n",
    "tf.keras.layers.MaxPooling2D((3, 3),strides = 2),\n",
    "tf.keras.layers.Conv2D(128, (3, 3), padding = 'same', activation = 'relu'),\n",
    "tf.keras.layers.MaxPooling2D((3, 3),strides =2),\n",
    "tf.keras.layers.Conv2D(128, (3, 3), padding = 'same', activation = 'relu'),\n",
    "tf.keras.layers.MaxPooling2D((3, 3),strides =2),\n",
    "tf.keras.layers.Flatten(),\n",
    "tf.keras.layers.Dense(128, activation = 'relu'),\n",
    "tf.keras.layers.Dense(2, activation = 'softmax')\n",
    "])"
   ],
   "metadata": {
    "collapsed": false
   }
  },
  {
   "cell_type": "code",
   "execution_count": null,
   "outputs": [],
   "source": [
    "model.summary()\n"
   ],
   "metadata": {
    "collapsed": false
   }
  },
  {
   "cell_type": "code",
   "execution_count": null,
   "outputs": [],
   "source": [
    "model.compile(optimizer=tf.keras.optimizers.Adam(learning_rate=0.001),loss='binary_crossentropy',metrics=['accuracy'])\n"
   ],
   "metadata": {
    "collapsed": false
   }
  },
  {
   "cell_type": "code",
   "execution_count": null,
   "outputs": [],
   "source": [
    "history = model.fit(X_train, y_train, validation_data = (X_test, y_test), epochs = 30 , batch_size = 75)\n"
   ],
   "metadata": {
    "collapsed": false
   }
  },
  {
   "cell_type": "code",
   "execution_count": null,
   "outputs": [],
   "source": [
    "model.evaluate(X_test,y_test)\n"
   ],
   "metadata": {
    "collapsed": false
   }
  },
  {
   "cell_type": "code",
   "execution_count": null,
   "outputs": [],
   "source": [
    "from sklearn.metrics import confusion_matrix\n",
    "Y_pred = model.predict(X_test)\n",
    "Y_pred_classes = np.argmax(Y_pred,axis = 1)\n",
    "Y_true = np.argmax(y_test,axis = 1)\n",
    "\n",
    "confusion_mtx = confusion_matrix(Y_true, Y_pred_classes)\n",
    "f,ax = plt.subplots(figsize=(8, 8))\n",
    "sns.heatmap(confusion_mtx, annot=True, linewidths=0.01,cmap=\"BuPu\",linecolor=\"gray\", fmt= '.1f',ax=ax)\n",
    "plt.xlabel(\"Predicted Label\")\n",
    "plt.ylabel(\"True Label\")\n",
    "plt.title(\"Confusion Matrix\")\n",
    "plt.show()\n"
   ],
   "metadata": {
    "collapsed": false
   }
  },
  {
   "cell_type": "markdown",
   "source": [
    " <h1>Mexri kai edw </h1>"
   ],
   "metadata": {
    "collapsed": false
   }
  },
  {
   "cell_type": "code",
   "execution_count": null,
   "outputs": [],
   "source": [
    "plt.plot(history.history['accuracy'])\n",
    "plt.plot(history.history['val_accuracy'])\n",
    "plt.title('Model Accuracy')\n",
    "plt.ylabel('accuracy')\n",
    "plt.xlabel('epoch')\n",
    "plt.legend(['train', 'test'], loc='upper left')\n",
    "plt.show()\n"
   ],
   "metadata": {
    "collapsed": false
   }
  },
  {
   "cell_type": "code",
   "execution_count": null,
   "outputs": [],
   "source": [
    "plt.plot(history.history['loss'])\n",
    "plt.plot(history.history['val_loss'])\n",
    "plt.title('Model Loss')\n",
    "plt.ylabel('loss')\n",
    "plt.xlabel('epoch')\n",
    "plt.legend(['train', 'test'], loc='upper left')\n",
    "plt.show()\n"
   ],
   "metadata": {
    "collapsed": false
   }
  },
  {
   "cell_type": "code",
   "execution_count": null,
   "outputs": [],
   "source": [
    "prediction = model.predict(X_test)\n",
    "prediction\n"
   ],
   "metadata": {
    "collapsed": false
   }
  },
  {
   "cell_type": "code",
   "execution_count": null,
   "outputs": [],
   "source": [
    "def img_plot(arr,index=0):\n",
    "    plt.title('Test Image')\n",
    "    plt.imshow(arr[index])\n"
   ],
   "metadata": {
    "collapsed": false
   }
  },
  {
   "cell_type": "code",
   "execution_count": null,
   "outputs": [],
   "source": [
    "index = 90\n",
    "img_plot(X_test, index)\n"
   ],
   "metadata": {
    "collapsed": false
   }
  },
  {
   "cell_type": "code",
   "execution_count": null,
   "outputs": [],
   "source": [
    "input = X_test[index:index+1]\n"
   ],
   "metadata": {
    "collapsed": false
   }
  },
  {
   "cell_type": "code",
   "execution_count": null,
   "outputs": [],
   "source": [
    "pred = model.predict(input)[0].argmax()\n",
    "label = y_test[index].argmax()"
   ],
   "metadata": {
    "collapsed": false
   }
  },
  {
   "cell_type": "code",
   "execution_count": null,
   "outputs": [],
   "source": [
    "print('Predicted Value using  cnn model',pred)\n",
    "print(\"True Value\",label)\n"
   ],
   "metadata": {
    "collapsed": false
   }
  },
  {
   "cell_type": "code",
   "execution_count": null,
   "outputs": [],
   "source": [],
   "metadata": {
    "collapsed": false
   }
  },
  {
   "cell_type": "code",
   "execution_count": null,
   "outputs": [],
   "source": [
    "Data_cleaning_1.info()"
   ],
   "metadata": {
    "collapsed": false
   }
  },
  {
   "cell_type": "code",
   "execution_count": null,
   "outputs": [],
   "source": [
    "Data_cleaning_2 = data_2.copy()"
   ],
   "metadata": {
    "collapsed": false
   }
  },
  {
   "cell_type": "code",
   "execution_count": null,
   "outputs": [],
   "source": [
    "Data_cleaning_2 = Data_cleaning_2.rename(columns={'mass shape':'mass_shape'})"
   ],
   "metadata": {
    "collapsed": false
   }
  },
  {
   "cell_type": "code",
   "execution_count": null,
   "outputs": [],
   "source": [
    "Data_cleaning_2 = Data_cleaning_2.rename(columns={'left or right breast':'left_or_right_breast'})"
   ],
   "metadata": {
    "collapsed": false
   }
  },
  {
   "cell_type": "code",
   "execution_count": null,
   "outputs": [],
   "source": [
    "Data_cleaning_2 = Data_cleaning_2.rename(columns={'mass margins':'mass_margins'})"
   ],
   "metadata": {
    "collapsed": false
   }
  },
  {
   "cell_type": "code",
   "execution_count": null,
   "outputs": [],
   "source": [
    "Data_cleaning_2 = Data_cleaning_2.rename(columns={'image view':'image_view'})"
   ],
   "metadata": {
    "collapsed": false
   }
  },
  {
   "cell_type": "code",
   "execution_count": null,
   "outputs": [],
   "source": [
    "Data_cleaning_2 = Data_cleaning_2.rename(columns={'abnormality type':'abnormality_type'})"
   ],
   "metadata": {
    "collapsed": false
   }
  },
  {
   "cell_type": "code",
   "execution_count": null,
   "outputs": [],
   "source": [
    "Data_cleaning_2['left_or_right_breast'] = Data_cleaning_2['left_or_right_breast'].astype('category')"
   ],
   "metadata": {
    "collapsed": false
   }
  },
  {
   "cell_type": "code",
   "execution_count": null,
   "outputs": [],
   "source": [
    "Data_cleaning_2['image_view'] = Data_cleaning_2['image_view'].astype('category')"
   ],
   "metadata": {
    "collapsed": false
   }
  },
  {
   "cell_type": "code",
   "execution_count": null,
   "outputs": [],
   "source": [
    "Data_cleaning_2['mass_margins'] = Data_cleaning_2['mass_margins'].astype('category')"
   ],
   "metadata": {
    "collapsed": false
   }
  },
  {
   "cell_type": "code",
   "execution_count": null,
   "outputs": [],
   "source": [
    "Data_cleaning_2['mass_shape'] = Data_cleaning_2['mass_shape'].astype('category')"
   ],
   "metadata": {
    "collapsed": false
   }
  },
  {
   "cell_type": "code",
   "execution_count": null,
   "outputs": [],
   "source": [
    "Data_cleaning_2['abnormality_type'] = Data_cleaning_2['abnormality_type'].astype('category')"
   ],
   "metadata": {
    "collapsed": false
   }
  },
  {
   "cell_type": "code",
   "execution_count": null,
   "outputs": [],
   "source": [
    "Data_cleaning_2['pathology'] = Data_cleaning_2['pathology'].astype('category')"
   ],
   "metadata": {
    "collapsed": false
   }
  },
  {
   "cell_type": "code",
   "execution_count": null,
   "outputs": [],
   "source": [
    "Data_cleaning_2.isna().sum()\n"
   ],
   "metadata": {
    "collapsed": false
   }
  },
  {
   "cell_type": "code",
   "execution_count": null,
   "outputs": [],
   "source": [
    "Data_cleaning_2['mass_shape'].fillna(method = 'bfill', axis = 0, inplace=True)\n"
   ],
   "metadata": {
    "collapsed": false
   }
  },
  {
   "cell_type": "code",
   "execution_count": null,
   "outputs": [],
   "source": [
    "Data_cleaning_2['mass_margins'].fillna(method = 'bfill', axis = 0, inplace=True)\n"
   ],
   "metadata": {
    "collapsed": false
   }
  },
  {
   "cell_type": "code",
   "execution_count": null,
   "outputs": [],
   "source": [
    "Data_cleaning_2.isna().sum()\n"
   ],
   "metadata": {
    "collapsed": false
   }
  },
  {
   "cell_type": "code",
   "execution_count": null,
   "outputs": [],
   "source": [
    "Data_cleaning_2.info()\n"
   ],
   "metadata": {
    "collapsed": false
   }
  },
  {
   "cell_type": "markdown",
   "source": [
    "Data Visualizations\n"
   ],
   "metadata": {
    "collapsed": false
   }
  },
  {
   "cell_type": "code",
   "execution_count": null,
   "outputs": [],
   "source": [
    "r= pd.DataFrame(dicom_cleaning_data['SeriesDescription'].value_counts())\n",
    "r= r.reset_index()\n",
    "r= r.rename(columns={'SeriesDescription':'SeriesDescription_counts', 'index':'SeriesDescription'})\n",
    "r"
   ],
   "metadata": {
    "collapsed": false
   }
  },
  {
   "cell_type": "code",
   "execution_count": null,
   "outputs": [],
   "source": [
    "ba_1 = px.bar(data_frame=r, x = 'SeriesDescription', y='SeriesDescription_counts', color='SeriesDescription')\n",
    "ba_1.update_layout(title_text='Types of images used', title_x=0.5)\n",
    "ba_1.show()"
   ],
   "metadata": {
    "collapsed": false
   }
  },
  {
   "cell_type": "markdown",
   "source": [
    "from cbis-ddsm-breast-cancer-image-dataset : This study depends on Three types of images ; cropped images , ROI images , Full mammogram images . from this graph we conclude that cropped images is the most used between them"
   ],
   "metadata": {
    "collapsed": false
   }
  },
  {
   "cell_type": "code",
   "execution_count": null,
   "outputs": [],
   "source": [
    "q= pd.DataFrame(dicom_cleaning_data['PatientOrientation'].value_counts())\n",
    "q= q.reset_index()\n",
    "q= q.rename(columns={'PatientOrientation':'PatientOrientation_counts', 'index':'PatientOrientation'})\n",
    "q"
   ],
   "metadata": {
    "collapsed": false
   }
  },
  {
   "cell_type": "code",
   "execution_count": null,
   "outputs": [],
   "source": [
    "qfig =px.pie(data_frame=q, names= 'PatientOrientation', values='PatientOrientation_counts', color = 'PatientOrientation')\n",
    "qfig.update_layout(title_text='The percenyages of PatientOrientation ', title_x=0.5)\n",
    "qfig.show()"
   ],
   "metadata": {
    "collapsed": false
   }
  },
  {
   "cell_type": "markdown",
   "source": [
    "from cbis-ddsm-breast-cancer-image-dataset in general : PatientOrientation (image_view) from the above graph MLO is much used than CC"
   ],
   "metadata": {
    "collapsed": false
   }
  },
  {
   "cell_type": "code",
   "execution_count": null,
   "outputs": [],
   "source": [
    "f= pd.DataFrame(dicom_cleaning_data['BodyPartExamined'].value_counts())\n",
    "f= f.reset_index()\n",
    "f= f.rename(columns={'BodyPartExamined':'BodyPartExamined_counts', 'index':'Breast part Examined'})\n",
    "f"
   ],
   "metadata": {
    "collapsed": false
   }
  },
  {
   "cell_type": "code",
   "execution_count": null,
   "outputs": [],
   "source": [
    "ba = px.bar(data_frame=f, x = 'Breast part Examined', y='BodyPartExamined_counts', color='Breast part Examined')\n",
    "ba.update_layout(title_text='Breast Parts Examined ', title_x=0.5,yaxis=dict(type='log'))\n",
    "ba.show()"
   ],
   "metadata": {
    "collapsed": false
   }
  },
  {
   "cell_type": "markdown",
   "source": [
    "from the above gragh : The Most Part Examined is Breast(All;left and also right)"
   ],
   "metadata": {
    "collapsed": false
   }
  },
  {
   "cell_type": "code",
   "execution_count": null,
   "outputs": [],
   "source": [
    "data_insight_2 = pd.DataFrame({'abnormality':[Data_cleaning_1.abnormality_type[0],Data_cleaning_2.abnormality_type[0]],\n",
    "                               'counts_of_abnormalties':[len(Data_cleaning_1),len(Data_cleaning_2)]})\n",
    "data_insight_2"
   ],
   "metadata": {
    "collapsed": false
   }
  },
  {
   "cell_type": "code",
   "execution_count": null,
   "outputs": [],
   "source": [
    "bar_2 =px.bar(data_frame=data_insight_2, x = 'abnormality', y='counts_of_abnormalties', color = 'abnormality')\n",
    "bar_2.update_layout(title_text='Types of abnormalites of cancer', title_x=0.5)\n",
    "bar_2.show()"
   ],
   "metadata": {
    "collapsed": false
   }
  },
  {
   "cell_type": "markdown",
   "source": [
    "fom this gragh : They are two abnormalities of breast cancer ; Calcification abnormality and Mass abnormality . and Most cases are with calcification abnormalities"
   ],
   "metadata": {
    "collapsed": false
   }
  },
  {
   "cell_type": "code",
   "execution_count": null,
   "outputs": [],
   "source": [
    "x = Data_cleaning_1.left_or_right_breast.value_counts().RIGHT\n",
    "y = Data_cleaning_1.left_or_right_breast.value_counts().LEFT\n",
    "print(x,y)"
   ],
   "metadata": {
    "collapsed": false
   }
  },
  {
   "cell_type": "code",
   "execution_count": null,
   "outputs": [],
   "source": [
    "data_insight_3 = pd.DataFrame({'left_or_right_breast':['RIGHt','LEFT'] , 'Counts':[x,y]})\n",
    "data_insight_3"
   ],
   "metadata": {
    "collapsed": false
   }
  },
  {
   "cell_type": "code",
   "execution_count": null,
   "outputs": [],
   "source": [
    "insight_3 = px.bar(data_insight_3, y= 'Counts', x='left_or_right_breast',color = 'left_or_right_breast')\n",
    "insight_3.update_layout(title_text=' clacfication cancer position of breast ', title_x=0.5)\n",
    "insight_3.show()\n"
   ],
   "metadata": {
    "collapsed": false
   }
  },
  {
   "cell_type": "code",
   "execution_count": null,
   "outputs": [],
   "source": [
    "z = pd.DataFrame(Data_cleaning_1['calc_type'].value_counts())\n",
    "z = z.reset_index()\n",
    "z= z.rename(columns={'calc_type':'calc_type_counts'})\n",
    "z\n"
   ],
   "metadata": {
    "collapsed": false
   }
  },
  {
   "cell_type": "code",
   "execution_count": null,
   "outputs": [],
   "source": [
    "bar_3 =px.bar(data_frame=z, y = 'index', x='calc_type_counts', color = 'index', orientation='h')\n",
    "bar_3.update_layout(title_text='Types of calcification cancer', title_x=0.5,xaxis=dict(type='log'))\n",
    "bar_3.show()"
   ],
   "metadata": {
    "collapsed": false
   }
  },
  {
   "cell_type": "markdown",
   "source": [
    "Calcfication cancer has 45 types , Most of them obtain is PLEOMORPHIC\n"
   ],
   "metadata": {
    "collapsed": false
   }
  },
  {
   "cell_type": "code",
   "execution_count": null,
   "outputs": [],
   "source": [
    "g = pd.DataFrame(Data_cleaning_1['calc_distribution'].value_counts())\n",
    "g = g.reset_index()\n",
    "g= g.rename(columns={'calc_distribution':'calc_distribution_counts'})\n",
    "g"
   ],
   "metadata": {
    "collapsed": false
   }
  },
  {
   "cell_type": "code",
   "execution_count": null,
   "outputs": [],
   "source": [
    "bar_4 =px.bar(data_frame=g, x = 'index', y='calc_distribution_counts', color = 'index', orientation='v')\n",
    "bar_4.update_layout(title_text='Types of Distribution of calcification  cancer', title_x=0.5,yaxis=dict(type='log'))\n",
    "bar_4.show()"
   ],
   "metadata": {
    "collapsed": false
   }
  },
  {
   "cell_type": "markdown",
   "source": [
    "for calcification cancer , there are 9 Types of Distribution of calcification cancer , Most of them obtained is Clustered"
   ],
   "metadata": {
    "collapsed": false
   }
  },
  {
   "cell_type": "code",
   "execution_count": null,
   "outputs": [],
   "source": [
    "I = pd.DataFrame(Data_cleaning_1['breast_density'].value_counts())\n",
    "I =I.reset_index()\n",
    "I= I.rename(columns={'index':'Breast density','breast_density':'counts'})\n",
    "I\n"
   ],
   "metadata": {
    "collapsed": false
   }
  },
  {
   "cell_type": "code",
   "execution_count": null,
   "outputs": [],
   "source": [
    "bar_5 =px.pie(data_frame=I, names= 'Breast density', values='counts', color = 'Breast density')\n",
    "bar_5.update_layout(title_text='The percenyages of Breast Density of calcification  cancer', title_x=0.5)\n",
    "bar_5.show()\n"
   ],
   "metadata": {
    "collapsed": false
   }
  },
  {
   "cell_type": "markdown",
   "source": [
    "For calcification cancer , There are 4 breast Density , Most of them found is 3\n"
   ],
   "metadata": {
    "collapsed": false
   }
  },
  {
   "cell_type": "code",
   "execution_count": null,
   "outputs": [],
   "source": [
    "h = pd.DataFrame(Data_cleaning_1['assessment'].value_counts())\n",
    "h =h.reset_index()\n",
    "h=h.rename(columns={'index':'Breast assessment','assessment':'counts'})\n",
    "h\n"
   ],
   "metadata": {
    "collapsed": false
   }
  },
  {
   "cell_type": "code",
   "execution_count": null,
   "outputs": [],
   "source": [
    "fig =px.pie(data_frame=h, values = 'counts', names='Breast assessment', color = 'Breast assessment')\n",
    "fig.update_layout(title_text='The Percentages of assessment Breast calcification  cancer', title_x=0.5)\n",
    "fig.show()\n"
   ],
   "metadata": {
    "collapsed": false
   }
  },
  {
   "cell_type": "markdown",
   "source": [
    "For calcfication cancer , There are 5 Types of assessments , Most of them obtains is 4\n"
   ],
   "metadata": {
    "collapsed": false
   }
  },
  {
   "cell_type": "code",
   "execution_count": null,
   "outputs": [],
   "source": [
    "v = pd.DataFrame(Data_cleaning_1['subtlety'].value_counts())\n",
    "v =v.reset_index()\n",
    "v=v.rename(columns={'index':'Breast subtlety','subtlety':'counts'})\n",
    "v\n"
   ],
   "metadata": {
    "collapsed": false
   }
  },
  {
   "cell_type": "code",
   "execution_count": null,
   "outputs": [],
   "source": [
    "fig_1=px.pie(data_frame=v, values = 'counts', names='Breast subtlety', color = 'Breast subtlety')\n",
    "fig_1.update_layout(title_text='The Percentages of subtlety Breast calcification  cancer', title_x=0.5)\n",
    "fig_1.show()\n"
   ],
   "metadata": {
    "collapsed": false
   }
  },
  {
   "cell_type": "markdown",
   "source": [
    "For calcification cancer , There are 5 Subtlety , Most of them found is 3\n"
   ],
   "metadata": {
    "collapsed": false
   }
  },
  {
   "cell_type": "code",
   "execution_count": null,
   "outputs": [],
   "source": [
    "a = pd.DataFrame(Data_cleaning_1['pathology'].value_counts())\n",
    "a =a.reset_index()\n",
    "a=a.rename(columns={'index':'pathology','pathology':'counts'})\n",
    "a\n"
   ],
   "metadata": {
    "collapsed": false
   }
  },
  {
   "cell_type": "code",
   "execution_count": null,
   "outputs": [],
   "source": [
    "fig_2 =px.bar(data_frame=a, x = 'pathology', y='counts', color = 'pathology', orientation='v')\n",
    "fig_2.update_layout(title_text='pathology of calcification  cancer', title_x=0.5)\n",
    "fig_2.show()\n"
   ],
   "metadata": {
    "collapsed": false
   }
  },
  {
   "cell_type": "markdown",
   "source": [],
   "metadata": {
    "collapsed": false
   }
  },
  {
   "cell_type": "markdown",
   "source": [
    "For calcification Cancer ,In Most Cases caner is Malignant"
   ],
   "metadata": {
    "collapsed": false
   }
  },
  {
   "cell_type": "code",
   "execution_count": null,
   "outputs": [],
   "source": [
    "b = pd.DataFrame(Data_cleaning_1['image_view'].value_counts())\n",
    "b =b.reset_index()\n",
    "b=b.rename(columns={'index':'image_view','image_view':'counts'})\n",
    "b"
   ],
   "metadata": {
    "collapsed": false
   }
  },
  {
   "cell_type": "code",
   "execution_count": null,
   "outputs": [],
   "source": [
    "fig_3=px.pie(data_frame=b, values = 'counts', names='image_view', color = 'image_view')\n",
    "fig_3.update_layout(title_text='The Percentages of image_view used in calcification  cancer', title_x=0.5)\n",
    "fig_3.show()"
   ],
   "metadata": {
    "collapsed": false
   }
  },
  {
   "cell_type": "markdown",
   "source": [
    "For calcification Cancer , Most image view used is MLO (52.2%)\n",
    "\n"
   ],
   "metadata": {
    "collapsed": false
   }
  },
  {
   "cell_type": "code",
   "execution_count": null,
   "outputs": [],
   "source": [
    "j = pd.DataFrame(Data_cleaning_2['breast_density'].value_counts())\n",
    "j =j.reset_index()\n",
    "j= j.rename(columns={'index':'Breast density','breast_density':'counts'})\n",
    "j"
   ],
   "metadata": {
    "collapsed": false
   }
  },
  {
   "cell_type": "code",
   "execution_count": null,
   "outputs": [],
   "source": [
    "fig_4 =px.pie(data_frame=j, names= 'Breast density', values='counts', color = 'Breast density')\n",
    "fig_4.update_layout(title_text='The percenyages of Breast Density of mass  cancer', title_x=0.5)\n",
    "fig_4.show()\n"
   ],
   "metadata": {
    "collapsed": false
   }
  },
  {
   "cell_type": "markdown",
   "source": [
    "for Mass Cancer , There are 4 values of Density Breast , Most of them found is 2"
   ],
   "metadata": {
    "collapsed": false
   }
  },
  {
   "cell_type": "code",
   "execution_count": null,
   "outputs": [],
   "source": [
    "k = pd.DataFrame(Data_cleaning_2['left_or_right_breast'].value_counts())\n",
    "k =k.reset_index()\n",
    "k= k.rename(columns={'index':'left_or_right_breast','left_or_right_breast':'counts'})\n",
    "k\n"
   ],
   "metadata": {
    "collapsed": false
   }
  },
  {
   "cell_type": "code",
   "execution_count": null,
   "outputs": [],
   "source": [
    "fig_5 =px.bar(data_frame=k, x = 'left_or_right_breast', y='counts', color = 'left_or_right_breast', orientation='v')\n",
    "fig_5.update_layout(title_text='position of mass cancer', title_x=0.5)\n",
    "fig_5.show()\n"
   ],
   "metadata": {
    "collapsed": false
   }
  },
  {
   "cell_type": "markdown",
   "source": [
    "For Mass Cancer, Most cases ,Cancer is the Right Breast\n",
    "\n"
   ],
   "metadata": {
    "collapsed": false
   }
  },
  {
   "cell_type": "code",
   "execution_count": null,
   "outputs": [],
   "source": [
    "p = pd.DataFrame(Data_cleaning_2['pathology'].value_counts())\n",
    "p =p.reset_index()\n",
    "p=p.rename(columns={'index':'pathology','pathology':'counts'})\n",
    "p\n"
   ],
   "metadata": {
    "collapsed": false
   }
  },
  {
   "cell_type": "code",
   "execution_count": null,
   "outputs": [],
   "source": [
    "fig_6 =px.bar(data_frame=p, x = 'pathology', y='counts', color = 'pathology', orientation='v')\n",
    "fig_6.update_layout(title_text='pathology of mass  cancer', title_x=0.5)\n",
    "fig_6.show()\n"
   ],
   "metadata": {
    "collapsed": false
   }
  },
  {
   "cell_type": "markdown",
   "source": [
    "for Mass Cancer , Most Cases of cancer is Malignant\n",
    "\n"
   ],
   "metadata": {
    "collapsed": false
   }
  },
  {
   "cell_type": "code",
   "execution_count": null,
   "outputs": [],
   "source": [
    "c = pd.DataFrame(Data_cleaning_2['subtlety'].value_counts())\n",
    "c =c.reset_index()\n",
    "c=c.rename(columns={'index':'Breast subtlety','subtlety':'counts'})"
   ],
   "metadata": {
    "collapsed": false
   }
  },
  {
   "cell_type": "code",
   "execution_count": null,
   "outputs": [],
   "source": [
    "fig_7=px.pie(data_frame=c, values = 'counts', names='Breast subtlety', color = 'Breast subtlety')\n",
    "fig_7.update_layout(title_text='The Percentages of subtlety Breast mass  cancer', title_x=0.5)\n",
    "fig_7.show()\n"
   ],
   "metadata": {
    "collapsed": false
   }
  },
  {
   "cell_type": "markdown",
   "source": [
    "For Mass Cancer , There are ^ Subtlety , Most of them found is%\n"
   ],
   "metadata": {
    "collapsed": false
   }
  },
  {
   "cell_type": "code",
   "execution_count": null,
   "outputs": [],
   "source": [
    "o = pd.DataFrame(Data_cleaning_2['assessment'].value_counts())\n",
    "o =o.reset_index()\n",
    "o=o.rename(columns={'index':'Breast assessment','assessment':'counts'})\n",
    "o\n"
   ],
   "metadata": {
    "collapsed": false
   }
  },
  {
   "cell_type": "code",
   "execution_count": null,
   "outputs": [],
   "source": [
    "fig_8 =px.pie(data_frame=o, values = 'counts', names='Breast assessment', color = 'Breast assessment')\n",
    "fig_8.update_layout(title_text='The Percentages of assessment Breast mass cancer', title_x=0.5)\n",
    "fig_8.show()\n"
   ],
   "metadata": {
    "collapsed": false
   }
  },
  {
   "cell_type": "markdown",
   "source": [
    "for Mass Cancer, There are 6 assessment , Most of them found is 4\n"
   ],
   "metadata": {
    "collapsed": false
   }
  },
  {
   "cell_type": "code",
   "execution_count": null,
   "outputs": [],
   "source": [
    "s = pd.DataFrame(Data_cleaning_2['mass_shape'].value_counts())\n",
    "s = s.reset_index()\n",
    "s= s.rename(columns={'mass_shape':'mass_shape_counts'})\n",
    "s\n"
   ],
   "metadata": {
    "collapsed": false
   }
  },
  {
   "cell_type": "code",
   "execution_count": null,
   "outputs": [],
   "source": [
    "fig_9 =px.bar(data_frame=s, y = 'index', x='mass_shape_counts', color = 'index', orientation='h')\n",
    "fig_9.update_layout(title_text='Types of Mass_shape of mass cancer', title_x=0.5,xaxis=dict(type='log'))\n",
    "fig_9.show()\n"
   ],
   "metadata": {
    "collapsed": false
   }
  },
  {
   "cell_type": "markdown",
   "source": [
    "For Mass Cancer , There are 18 types of Mass_shape , Most off them found is IRREGULAR\n"
   ],
   "metadata": {
    "collapsed": false
   }
  },
  {
   "cell_type": "code",
   "execution_count": null,
   "outputs": [],
   "source": [
    "u = pd.DataFrame(Data_cleaning_2['mass_margins'].value_counts())\n",
    "u = u.reset_index()\n",
    "u= u.rename(columns={'index':'mass_margins','mass_margins':'counts'})\n",
    "u\n"
   ],
   "metadata": {
    "collapsed": false
   }
  },
  {
   "cell_type": "code",
   "execution_count": null,
   "outputs": [],
   "source": [
    "fig_10=px.bar(data_frame=u, y = 'mass_margins', x='counts', color = 'mass_margins', orientation='h')\n",
    "fig_10.update_layout(title_text='Types of Mass_margins of mass cancer', title_x=0.5,xaxis=dict(type='log'))\n",
    "fig_10.show()\n"
   ],
   "metadata": {
    "collapsed": false
   }
  },
  {
   "cell_type": "markdown",
   "source": [
    "for Mass Cancer , There are 15 type of Mass_margins , most of them found is CIRCUMSCRIBED\n"
   ],
   "metadata": {
    "collapsed": false
   }
  },
  {
   "cell_type": "code",
   "execution_count": null,
   "outputs": [],
   "source": [
    "t= pd.DataFrame(Data_cleaning_2['image_view'].value_counts())\n",
    "t=t.reset_index()\n",
    "t=t.rename(columns={'index':'image_view','image_view':'counts'})\n",
    "t\n"
   ],
   "metadata": {
    "collapsed": false
   }
  },
  {
   "cell_type": "code",
   "execution_count": null,
   "outputs": [],
   "source": [
    "fig_11=px.pie(data_frame=t, values = 'counts', names='image_view', color = 'image_view')\n",
    "fig_11.update_layout(title_text='The Percentages of image_view used in mass cancer', title_x=0.5)\n",
    "fig_11.show()\n"
   ],
   "metadata": {
    "collapsed": false
   }
  },
  {
   "cell_type": "markdown",
   "source": [
    "For Mass cancer , Most image_view used is MLO (53.9%)\n",
    "\n"
   ],
   "metadata": {
    "collapsed": false
   }
  },
  {
   "cell_type": "markdown",
   "source": [
    "<h1>Apo edw kai katw den trexi tipota, ola stirizontai sto idc opote theloume allo me ddsm.</h1>"
   ],
   "metadata": {
    "collapsed": false
   }
  },
  {
   "cell_type": "markdown",
   "source": [
    "bellow we are trying to cast the data"
   ],
   "metadata": {
    "collapsed": false
   }
  },
  {
   "cell_type": "markdown",
   "source": [],
   "metadata": {
    "collapsed": false
   }
  },
  {
   "cell_type": "markdown",
   "source": [],
   "metadata": {
    "collapsed": false
   }
  },
  {
   "cell_type": "code",
   "execution_count": null,
   "outputs": [],
   "source": [
    "breast_img=[]\n",
    "for dirname, _, filenames in os.walk('CBIS-DDSM\\jpeg'):\n",
    "    for filename in filenames:\n",
    "        print(os.path.join(dirname, filename))\n",
    "        breast_img.append(os.path.join(dirname, filename))"
   ],
   "metadata": {
    "collapsed": false
   }
  },
  {
   "cell_type": "code",
   "execution_count": null,
   "outputs": [],
   "source": [
    "for imgname in breast_img[:3]:\n",
    "    print(imgname)"
   ],
   "metadata": {
    "collapsed": false
   }
  },
  {
   "cell_type": "code",
   "execution_count": null,
   "outputs": [],
   "source": [
    "non_can_img = []\n",
    "can_img = []\n",
    "\n",
    "for img in breast_img:\n",
    "    if img[-5] == '0' :\n",
    "        non_can_img.append(img)\n",
    "\n",
    "    elif img[-5] == '1' :\n",
    "        can_img.append(img)"
   ],
   "metadata": {
    "collapsed": false
   }
  },
  {
   "cell_type": "code",
   "execution_count": null,
   "outputs": [],
   "source": [
    "non_can_num = len(non_can_img)  # No cancer\n",
    "can_num = len(can_img)   # Cancer\n",
    "\n",
    "total_img_num = non_can_num + can_num\n",
    "\n",
    "print('Number of Images of no cancer: {}' .format(non_can_num))   # images of Non cancer\n",
    "print('Number of Images of cancer : {}' .format(can_num))   # images of cancer\n",
    "print('Total Number of Images : {}' .format(total_img_num))"
   ],
   "metadata": {
    "collapsed": false
   }
  },
  {
   "cell_type": "code",
   "execution_count": null,
   "outputs": [],
   "source": [
    "from keras_preprocessing import image\n",
    "\n",
    "plt.figure(figsize = (15, 15))\n",
    "\n",
    "some_non = np.random.randint(0, len(non_can_img), 18)\n",
    "some_can = np.random.randint(0, len(can_img), 18)\n",
    "\n",
    "s = 0\n",
    "for num in some_non:\n",
    "\n",
    "        img = image.load_img((non_can_img[num]), target_size=(100, 100))\n",
    "        img = image.img_to_array(img)\n",
    "\n",
    "        plt.subplot(6, 6, 2*s+1)\n",
    "        plt.axis('off')\n",
    "        plt.title('no cancer')\n",
    "        plt.imshow(img.astype('uint8'))\n",
    "        s += 1\n",
    "\n",
    "s = 1\n",
    "for num in some_can:\n",
    "\n",
    "        img = image.load_img((can_img[num]), target_size=(100, 100))\n",
    "        img = image.img_to_array(img)\n",
    "        plt.subplot(6, 6, 2*s)\n",
    "        plt.axis('off')\n",
    "        plt.title('cancer')\n",
    "        plt.imshow(img.astype('uint8'))\n",
    "        s += 1\n"
   ],
   "metadata": {
    "collapsed": false
   }
  },
  {
   "cell_type": "code",
   "execution_count": null,
   "outputs": [],
   "source": [
    "from matplotlib.image import imread\n",
    "import cv2\n",
    "\n",
    "some_non_img = random.sample(non_can_img, len(non_can_img))\n",
    "some_can_img = random.sample(can_img, len(can_img))\n",
    "\n",
    "non_img_arr = []\n",
    "can_img_arr = []\n",
    "\n",
    "for img in some_non_img:\n",
    "\n",
    "    n_img = cv2.imread(img, cv2.IMREAD_COLOR)\n",
    "    n_img_size = cv2.resize(n_img, (50, 50), interpolation = cv2.INTER_LINEAR)\n",
    "    non_img_arr.append([n_img_size, 0])\n",
    "\n",
    "for img in some_can_img:\n",
    "\n",
    "    c_img = cv2.imread(img, cv2.IMREAD_COLOR)\n",
    "    c_img_size = cv2.resize(c_img, (50, 50), interpolation = cv2.INTER_LINEAR)\n",
    "    can_img_arr.append([c_img_size, 1])"
   ],
   "metadata": {
    "collapsed": false
   }
  },
  {
   "cell_type": "code",
   "execution_count": null,
   "outputs": [],
   "source": [
    "X = []\n",
    "y = []\n",
    "\n",
    "breast_img_arr = np.concatenate((non_img_arr, can_img_arr))\n",
    "random.shuffle(breast_img_arr)\n",
    "\n",
    "for feature, label in breast_img_arr:\n",
    "    X.append(feature)\n",
    "    y.append(label)\n",
    "\n",
    "X = np.array(X)\n",
    "y = np.array(y)\n",
    "\n",
    "print('X shape : {}' .format(X.shape))"
   ],
   "metadata": {
    "collapsed": false
   }
  },
  {
   "cell_type": "code",
   "execution_count": null,
   "outputs": [],
   "source": [
    "from sklearn.model_selection import train_test_split\n",
    "from keras.utils.np_utils import to_categorical\n",
    "\n",
    "X_train, X_test, y_train, y_test = train_test_split(X, y, test_size = 0.25, random_state = 42)\n",
    "\n",
    "rate = 0.5\n",
    "num = int(X.shape[0] * rate)\n",
    "\n",
    "y_train = to_categorical(y_train, 2)\n",
    "y_test = to_categorical(y_test, 2)\n",
    "\n",
    "\n",
    "print('X_train shape : {}' .format(X_train.shape))\n",
    "print('X_test shape : {}' .format(X_test.shape))\n",
    "print('y_train shape : {}' .format(y_train.shape))\n",
    "print('y_test shape : {}' .format(y_test.shape))\n"
   ],
   "metadata": {
    "collapsed": false
   }
  },
  {
   "cell_type": "code",
   "execution_count": null,
   "outputs": [],
   "source": [
    "model = tf.keras.Sequential([\n",
    "tf.keras.layers.Conv2D(32, (3, 3), padding = 'same', activation = 'relu', input_shape = (50, 50, 3)),\n",
    "tf.keras.layers.MaxPooling2D(strides = 2),\n",
    "tf.keras.layers.Conv2D(64, (3, 3), padding = 'same', activation = 'relu'),\n",
    "tf.keras.layers.MaxPooling2D((3, 3),strides = 2),\n",
    "tf.keras.layers.Conv2D(128, (3, 3), padding = 'same', activation = 'relu'),\n",
    "tf.keras.layers.MaxPooling2D((3, 3),strides =2),\n",
    "tf.keras.layers.Conv2D(128, (3, 3), padding = 'same', activation = 'relu'),\n",
    "tf.keras.layers.MaxPooling2D((3, 3),strides =2),\n",
    "tf.keras.layers.Flatten(),\n",
    "tf.keras.layers.Dense(128, activation = 'relu'),\n",
    "tf.keras.layers.Dense(2, activation = 'softmax')\n",
    "])"
   ],
   "metadata": {
    "collapsed": false
   }
  },
  {
   "cell_type": "code",
   "execution_count": null,
   "outputs": [],
   "source": [
    "model.summary()\n"
   ],
   "metadata": {
    "collapsed": false
   }
  },
  {
   "cell_type": "code",
   "execution_count": null,
   "outputs": [],
   "source": [
    "model.compile(optimizer=tf.keras.optimizers.Adam(learning_rate=0.001),loss='binary_crossentropy',metrics=['accuracy'])\n"
   ],
   "metadata": {
    "collapsed": false
   }
  },
  {
   "cell_type": "code",
   "execution_count": null,
   "outputs": [],
   "source": [
    "history = model.fit(X_train, y_train, validation_data = (X_test, y_test), epochs = 30 , batch_size = 75)\n"
   ],
   "metadata": {
    "collapsed": false
   }
  },
  {
   "cell_type": "code",
   "execution_count": null,
   "outputs": [],
   "source": [
    "model.evaluate(X_test,y_test)\n"
   ],
   "metadata": {
    "collapsed": false
   }
  },
  {
   "cell_type": "code",
   "execution_count": null,
   "outputs": [],
   "source": [
    "from sklearn.metrics import confusion_matrix\n",
    "Y_pred = model.predict(X_test)\n",
    "Y_pred_classes = np.argmax(Y_pred,axis = 1)\n",
    "Y_true = np.argmax(y_test,axis = 1)\n",
    "\n",
    "confusion_mtx = confusion_matrix(Y_true, Y_pred_classes)\n",
    "f,ax = plt.subplots(figsize=(8, 8))\n",
    "sns.heatmap(confusion_mtx, annot=True, linewidths=0.01,cmap=\"BuPu\",linecolor=\"gray\", fmt= '.1f',ax=ax)\n",
    "plt.xlabel(\"Predicted Label\")\n",
    "plt.ylabel(\"True Label\")\n",
    "plt.title(\"Confusion Matrix\")\n",
    "plt.show()\n"
   ],
   "metadata": {
    "collapsed": false
   }
  },
  {
   "cell_type": "markdown",
   "source": [
    " <h1>Mexri kai edw </h1>"
   ],
   "metadata": {
    "collapsed": false
   }
  },
  {
   "cell_type": "code",
   "execution_count": null,
   "outputs": [],
   "source": [
    "plt.plot(history.history['accuracy'])\n",
    "plt.plot(history.history['val_accuracy'])\n",
    "plt.title('Model Accuracy')\n",
    "plt.ylabel('accuracy')\n",
    "plt.xlabel('epoch')\n",
    "plt.legend(['train', 'test'], loc='upper left')\n",
    "plt.show()\n"
   ],
   "metadata": {
    "collapsed": false
   }
  },
  {
   "cell_type": "code",
   "execution_count": null,
   "outputs": [],
   "source": [
    "plt.plot(history.history['loss'])\n",
    "plt.plot(history.history['val_loss'])\n",
    "plt.title('Model Loss')\n",
    "plt.ylabel('loss')\n",
    "plt.xlabel('epoch')\n",
    "plt.legend(['train', 'test'], loc='upper left')\n",
    "plt.show()\n"
   ],
   "metadata": {
    "collapsed": false
   }
  },
  {
   "cell_type": "code",
   "execution_count": null,
   "outputs": [],
   "source": [
    "prediction = model.predict(X_test)\n",
    "prediction\n"
   ],
   "metadata": {
    "collapsed": false
   }
  },
  {
   "cell_type": "code",
   "execution_count": null,
   "outputs": [],
   "source": [
    "def img_plot(arr,index=0):\n",
    "    plt.title('Test Image')\n",
    "    plt.imshow(arr[index])\n"
   ],
   "metadata": {
    "collapsed": false
   }
  },
  {
   "cell_type": "code",
   "execution_count": null,
   "outputs": [],
   "source": [
    "index = 91\n",
    "img_plot(X_test, index)\n"
   ],
   "metadata": {
    "collapsed": false
   }
  },
  {
   "cell_type": "code",
   "execution_count": null,
   "outputs": [],
   "source": [
    "input = X_test[index:index+1]\n"
   ],
   "metadata": {
    "collapsed": false
   }
  },
  {
   "cell_type": "code",
   "execution_count": null,
   "outputs": [],
   "source": [
    "pred = model.predict(input)[0].argmax()\n",
    "label = y_test[index].argmax()"
   ],
   "metadata": {
    "collapsed": false
   }
  },
  {
   "cell_type": "code",
   "execution_count": null,
   "outputs": [],
   "source": [
    "print('Predicted Value using  cnn model',pred)\n",
    "print(\"True Value\",label)\n"
   ],
   "metadata": {
    "collapsed": false
   }
  },
  {
   "cell_type": "code",
   "execution_count": null,
   "outputs": [],
   "source": [],
   "metadata": {
    "collapsed": false
   }
  }
 ],
 "metadata": {
  "kernelspec": {
   "display_name": "Python 3",
   "language": "python",
   "name": "python3"
  },
  "language_info": {
   "codemirror_mode": {
    "name": "ipython",
    "version": 2
   },
   "file_extension": ".py",
   "mimetype": "text/x-python",
   "name": "python",
   "nbconvert_exporter": "python",
   "pygments_lexer": "ipython2",
   "version": "2.7.6"
  }
 },
 "nbformat": 4,
 "nbformat_minor": 0
}
