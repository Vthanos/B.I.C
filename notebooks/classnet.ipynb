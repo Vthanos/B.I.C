{
 "cells": [
  {
   "cell_type": "markdown",
   "source": [],
   "metadata": {
    "collapsed": false,
    "pycharm": {
     "name": "#%% md\n"
    }
   }
  },
  {
   "cell_type": "markdown",
   "source": [
    "noting down the requirements and the cuda prerequisites since they'll be needed so the notebook can be used in different platforms\n",
    "\n",
    "Cuda version = cuda 11.2\n",
    "CuDNN = 8.1.1\n",
    "tensorflow = tf-gpu 2.9.1\n",
    "\n",
    "Also, on a later notice the project will be running on a docker containers"
   ],
   "metadata": {
    "collapsed": false,
    "pycharm": {
     "name": "#%% md\n"
    }
   }
  },
  {
   "cell_type": "code",
   "execution_count": 2,
   "outputs": [],
   "source": [
    "import tensorflow as tf\n",
    "import PIL\n",
    "import numpy as np\n",
    "import matplotlib.pyplot as plt\n",
    "import pandas as pd\n",
    "import os\n"
   ],
   "metadata": {
    "collapsed": false,
    "pycharm": {
     "name": "#%%\n"
    }
   }
  },
  {
   "cell_type": "markdown",
   "source": [
    "testing the file path to see if the pictures are recognized\n"
   ],
   "metadata": {
    "collapsed": false,
    "pycharm": {
     "name": "#%% md\n"
    }
   }
  },
  {
   "cell_type": "code",
   "execution_count": null,
   "outputs": [],
   "source": [
    "for dirname, _, filenames in os.walk('CBIS-DDSM/jpeg'):\n",
    "    for filename in filenames:\n",
    "        print(os.path.join(dirname, filename))\n"
   ],
   "metadata": {
    "collapsed": false,
    "pycharm": {
     "name": "#%%\n"
    }
   }
  },
  {
   "cell_type": "markdown",
   "source": [
    "now defining the functions for the plotting\n"
   ],
   "metadata": {
    "collapsed": false,
    "pycharm": {
     "name": "#%% md\n"
    }
   }
  },
  {
   "cell_type": "code",
   "execution_count": null,
   "outputs": [],
   "source": [
    "# Distribution graphs (histogram/bar graph) of column data\n",
    "# Distribution graphs (histogram/bar graph) of column data\n",
    "def plotPerColumnDistribution(df, nGraphShown, nGraphPerRow):\n",
    "    nunique = df.nunique()\n",
    "    df = df[[col for col in df if 1 < nunique[col] < 50]] # For displaying purposes, pick columns that have between 1 and 50 unique values\n",
    "    nRow, nCol = df.shape\n",
    "    columnNames = list(df)\n",
    "    nGraphRow = int((nCol + nGraphPerRow - 1) / nGraphPerRow)\n",
    "    plt.figure(num = None, figsize = (6 * nGraphPerRow, 8 * nGraphRow), dpi = 80, facecolor = 'w', edgecolor = 'k')\n",
    "    for i in range(min(nCol, nGraphShown)):\n",
    "        plt.subplot(nGraphRow, nGraphPerRow, i + 1)\n",
    "        columnDf = df.iloc[:, i]\n",
    "        if (not np.issubdtype(type(columnDf.iloc[0]), np.number)):\n",
    "            valueCounts = columnDf.value_counts()\n",
    "            valueCounts.plot.bar()\n",
    "        else:\n",
    "            columnDf.hist()\n",
    "        plt.ylabel('counts')\n",
    "        plt.xticks(rotation = 90)\n",
    "        plt.title(f'{columnNames[i]} (column {i})')\n",
    "    plt.tight_layout(pad = 1.0, w_pad = 1.0, h_pad = 1.0)\n",
    "    plt.show()"
   ],
   "metadata": {
    "collapsed": false,
    "pycharm": {
     "name": "#%%\n"
    }
   }
  },
  {
   "cell_type": "code",
   "execution_count": null,
   "outputs": [],
   "source": [
    "# Correlation matrix\n",
    "def plotCorrelationMatrix(df, graphWidth):\n",
    "    filename = df.dataframeName\n",
    "    df = df.dropna('columns') # drop columns with NaN\n",
    "    df = df[[col for col in df if df[col].nunique() > 1]] # keep columns where there are more than 1 unique values\n",
    "    if df.shape[1] < 2:\n",
    "        print(f'No correlation plots shown: The number of non-NaN or constant columns ({df.shape[1]}) is less than 2')\n",
    "        return\n",
    "    corr = df.corr()\n",
    "    plt.figure(num=None, figsize=(graphWidth, graphWidth), dpi=80, facecolor='w', edgecolor='k')\n",
    "    corrMat = plt.matshow(corr, fignum = 1)\n",
    "    plt.xticks(range(len(corr.columns)), corr.columns, rotation=90)\n",
    "    plt.yticks(range(len(corr.columns)), corr.columns)\n",
    "    plt.gca().xaxis.tick_bottom()\n",
    "    plt.colorbar(corrMat)\n",
    "    plt.title(f'Correlation Matrix for {filename}', fontsize=15)\n",
    "    plt.show()"
   ],
   "metadata": {
    "collapsed": false,
    "pycharm": {
     "name": "#%%\n"
    }
   }
  },
  {
   "cell_type": "code",
   "execution_count": null,
   "outputs": [],
   "source": [
    "# Scatter and density plots\n",
    "def plotScatterMatrix(df, plotSize, textSize):\n",
    "    df = df.select_dtypes(include =[np.number]) # keep only numerical columns\n",
    "    # Remove rows and columns that would lead to df being singular\n",
    "    df = df.dropna('columns')\n",
    "    df = df[[col for col in df if df[col].nunique() > 1]] # keep columns where there are more than 1 unique values\n",
    "    columnNames = list(df)\n",
    "    if len(columnNames) > 10: # reduce the number of columns for matrix inversion of kernel density plots\n",
    "        columnNames = columnNames[:10]\n",
    "    df = df[columnNames]\n",
    "    ax = pd.plotting.scatter_matrix(df, alpha=0.75, figsize=[plotSize, plotSize], diagonal='kde')\n",
    "    corrs = df.corr().values\n",
    "    for i, j in zip(*plt.np.triu_indices_from(ax, k = 1)):\n",
    "        ax[i, j].annotate('Corr. coef = %.3f' % corrs[i, j], (0.8, 0.2), xycoords='axes fraction', ha='center', va='center', size=textSize)\n",
    "    plt.suptitle('Scatter and Density Plot')\n",
    "    plt.show()"
   ],
   "metadata": {
    "collapsed": false,
    "pycharm": {
     "name": "#%%\n"
    }
   }
  },
  {
   "cell_type": "markdown",
   "source": [
    "checking the first file calc_case_description_test_set.csv"
   ],
   "metadata": {
    "collapsed": false,
    "pycharm": {
     "name": "#%% md\n"
    }
   }
  },
  {
   "cell_type": "code",
   "execution_count": null,
   "outputs": [],
   "source": [
    "nRowsRead = None #1000 # specify 'None' if I want to read whole file\n",
    "# calc_case_description_test_set.csv may have more rows in reality, but we are only loading/previewing the first 1000 rows\n",
    "df1 = pd.read_csv('CBIS-DDSM/csv/calc_case_description_test_set.csv', delimiter=',', nrows = nRowsRead)\n",
    "df1.dataframeName = 'calc_case_description_test_set.csv'\n",
    "nRow, nCol = df1.shape\n",
    "print(f'There are {nRow} rows and {nCol} columns')"
   ],
   "metadata": {
    "collapsed": false,
    "pycharm": {
     "name": "#%%\n"
    }
   }
  },
  {
   "cell_type": "code",
   "execution_count": null,
   "outputs": [],
   "source": [
    "df1.head(5)"
   ],
   "metadata": {
    "collapsed": false,
    "pycharm": {
     "name": "#%%\n"
    }
   }
  },
  {
   "cell_type": "markdown",
   "source": [],
   "metadata": {
    "collapsed": false,
    "pycharm": {
     "name": "#%% md\n"
    }
   }
  },
  {
   "cell_type": "code",
   "execution_count": null,
   "outputs": [],
   "source": [
    "plotPerColumnDistribution(df1, 10, 5)"
   ],
   "metadata": {
    "collapsed": false,
    "pycharm": {
     "name": "#%%\n"
    }
   }
  },
  {
   "cell_type": "code",
   "execution_count": null,
   "outputs": [],
   "source": [
    "plotCorrelationMatrix(df1, 8)"
   ],
   "metadata": {
    "collapsed": false,
    "pycharm": {
     "name": "#%%\n"
    }
   }
  },
  {
   "cell_type": "code",
   "execution_count": null,
   "outputs": [],
   "source": [
    "plotScatterMatrix(df1, 12, 10)"
   ],
   "metadata": {
    "collapsed": false,
    "pycharm": {
     "name": "#%%\n"
    }
   }
  },
  {
   "cell_type": "markdown",
   "source": [
    "checking meta.csv ?"
   ],
   "metadata": {
    "collapsed": false,
    "pycharm": {
     "name": "#%% md\n"
    }
   }
  },
  {
   "cell_type": "code",
   "execution_count": null,
   "outputs": [],
   "source": [
    "nRowsRead = 1000 # specify 'None' if want to read whole file\n",
    "# meta.csv may have more rows in reality, but we are only loading/previewing the first 1000 rows\n",
    "df2 = pd.read_csv('CBIS-DDSM/csv/meta.csv', delimiter=',', nrows = nRowsRead)\n",
    "df2.dataframeName = 'meta.csv'\n",
    "nRow, nCol = df2.shape\n",
    "print(f'There are {nRow} rows and {nCol} columns')\n"
   ],
   "metadata": {
    "collapsed": false,
    "pycharm": {
     "name": "#%%\n"
    }
   }
  },
  {
   "cell_type": "code",
   "execution_count": null,
   "outputs": [],
   "source": [
    "df2.head(5)"
   ],
   "metadata": {
    "collapsed": false,
    "pycharm": {
     "name": "#%%\n"
    }
   }
  },
  {
   "cell_type": "code",
   "execution_count": null,
   "outputs": [],
   "source": [
    "plotPerColumnDistribution(df2, 10, 5)"
   ],
   "metadata": {
    "collapsed": false,
    "pycharm": {
     "name": "#%%\n"
    }
   }
  },
  {
   "cell_type": "code",
   "execution_count": null,
   "outputs": [],
   "source": [
    "plotCorrelationMatrix(df2, 8)"
   ],
   "metadata": {
    "collapsed": false,
    "pycharm": {
     "name": "#%%\n"
    }
   }
  },
  {
   "cell_type": "code",
   "execution_count": null,
   "outputs": [],
   "source": [
    "plotScatterMatrix(df2, 9, 10)"
   ],
   "metadata": {
    "collapsed": false,
    "pycharm": {
     "name": "#%%\n"
    }
   }
  },
  {
   "cell_type": "code",
   "execution_count": null,
   "outputs": [],
   "source": [
    "nRowsRead = 1000 # specify 'None' if want to read whole file\n",
    "# mass_case_description_train_set.csv may have more rows in reality, but we are only loading/previewing the first 1000 rows\n",
    "df3 = pd.read_csv('CBIS-DDSM/csv/mass_case_description_train_set.csv', delimiter=',', nrows = nRowsRead)\n",
    "df3.dataframeName = 'mass_case_description_train_set.csv'\n",
    "nRow, nCol = df3.shape\n",
    "print(f'There are {nRow} rows and {nCol} columns')\n"
   ],
   "metadata": {
    "collapsed": false,
    "pycharm": {
     "name": "#%%\n"
    }
   }
  },
  {
   "cell_type": "code",
   "execution_count": null,
   "outputs": [],
   "source": [
    "df3.head(5)"
   ],
   "metadata": {
    "collapsed": false,
    "pycharm": {
     "name": "#%%\n"
    }
   }
  },
  {
   "cell_type": "code",
   "execution_count": null,
   "outputs": [],
   "source": [
    "plotPerColumnDistribution(df3, 10, 5)"
   ],
   "metadata": {
    "collapsed": false,
    "pycharm": {
     "name": "#%%\n"
    }
   }
  },
  {
   "cell_type": "code",
   "execution_count": null,
   "outputs": [],
   "source": [
    "plotCorrelationMatrix(df3, 8)"
   ],
   "metadata": {
    "collapsed": false,
    "pycharm": {
     "name": "#%%\n"
    }
   }
  },
  {
   "cell_type": "code",
   "execution_count": null,
   "outputs": [],
   "source": [
    "plotScatterMatrix(df3, 12, 10)"
   ],
   "metadata": {
    "collapsed": false,
    "pycharm": {
     "name": "#%%\n"
    }
   }
  },
  {
   "cell_type": "code",
   "execution_count": null,
   "outputs": [],
   "source": [
    "dicom_data = pd.read_csv('CBIS-DDSM/csv/dicom_info.csv')"
   ],
   "metadata": {
    "collapsed": false,
    "pycharm": {
     "name": "#%%\n"
    }
   }
  },
  {
   "cell_type": "code",
   "execution_count": null,
   "outputs": [],
   "source": [
    "dicom_data.head()"
   ],
   "metadata": {
    "collapsed": false,
    "pycharm": {
     "name": "#%%\n"
    }
   }
  },
  {
   "cell_type": "markdown",
   "source": [
    "information that is contained in the dicom images"
   ],
   "metadata": {
    "collapsed": false,
    "pycharm": {
     "name": "#%% md\n"
    }
   }
  },
  {
   "cell_type": "code",
   "execution_count": null,
   "outputs": [],
   "source": [
    "dicom_data.info()"
   ],
   "metadata": {
    "collapsed": false,
    "pycharm": {
     "name": "#%%\n"
    }
   }
  },
  {
   "cell_type": "code",
   "execution_count": null,
   "outputs": [],
   "source": [
    "cropped_images=dicom_data[dicom_data.SeriesDescription == 'cropped images'].image_path\n",
    "cropped_images.head()"
   ],
   "metadata": {
    "collapsed": false,
    "pycharm": {
     "name": "#%%\n"
    }
   }
  },
  {
   "cell_type": "markdown",
   "source": [
    "dir containing the images"
   ],
   "metadata": {
    "collapsed": false,
    "pycharm": {
     "name": "#%% md\n"
    }
   }
  },
  {
   "cell_type": "markdown",
   "source": [],
   "metadata": {
    "collapsed": false,
    "pycharm": {
     "name": "#%% md\n"
    }
   }
  },
  {
   "cell_type": "code",
   "execution_count": null,
   "outputs": [],
   "source": [
    "image_dir = 'CBIS-DDSM/jpeg'"
   ],
   "metadata": {
    "collapsed": false,
    "pycharm": {
     "name": "#%%\n"
    }
   }
  },
  {
   "cell_type": "markdown",
   "source": [
    "cropping images"
   ],
   "metadata": {
    "collapsed": false,
    "pycharm": {
     "name": "#%% md\n"
    }
   }
  },
  {
   "cell_type": "code",
   "execution_count": null,
   "outputs": [],
   "source": [
    "cropped_images = cropped_images.apply(lambda x: x.replace('CBIS-DDSM/jpeg', image_dir))\n",
    "cropped_images.head()"
   ],
   "metadata": {
    "collapsed": false,
    "pycharm": {
     "name": "#%%\n"
    }
   }
  },
  {
   "cell_type": "markdown",
   "source": [
    "converting images to grayscale"
   ],
   "metadata": {
    "collapsed": false,
    "pycharm": {
     "name": "#%% md\n"
    }
   }
  },
  {
   "cell_type": "code",
   "execution_count": null,
   "outputs": [],
   "source": [
    "for file  in cropped_images[0:5]:\n",
    "  cropped_images_show = PIL.Image.open(file)\n",
    "  gray_img= cropped_images_show.convert(\"L\")\n",
    "  plt.imshow(gray_img, cmap='gray')"
   ],
   "metadata": {
    "collapsed": false,
    "pycharm": {
     "name": "#%%\n"
    }
   }
  },
  {
   "cell_type": "markdown",
   "source": [
    "full_mamogram_images contains the uncropped images"
   ],
   "metadata": {
    "collapsed": false,
    "pycharm": {
     "name": "#%% md\n"
    }
   }
  },
  {
   "cell_type": "code",
   "execution_count": null,
   "outputs": [],
   "source": [
    "full_mammogram_images=dicom_data[dicom_data.SeriesDescription == 'full mammogram images'].image_path\n",
    "#.replace(image_path,image_dir)\n",
    "#image_path\n",
    "full_mammogram_images.head()"
   ],
   "metadata": {
    "collapsed": false,
    "pycharm": {
     "name": "#%%\n"
    }
   }
  },
  {
   "cell_type": "markdown",
   "source": [
    "convert them to grayscale"
   ],
   "metadata": {
    "collapsed": false,
    "pycharm": {
     "name": "#%% md\n"
    }
   }
  },
  {
   "cell_type": "code",
   "execution_count": null,
   "outputs": [],
   "source": [
    "full_mammogram_images = full_mammogram_images.apply(lambda x: x.replace('CBIS-DDSM/jpeg', image_dir))\n",
    "full_mammogram_images.head()\n"
   ],
   "metadata": {
    "collapsed": false,
    "pycharm": {
     "name": "#%%\n"
    }
   }
  },
  {
   "cell_type": "code",
   "execution_count": null,
   "outputs": [],
   "source": [
    "for file  in full_mammogram_images[0:5]:\n",
    "  full_mammogram_images_show = PIL.Image.open(file)\n",
    "  gray_img= full_mammogram_images_show.convert(\"L\")\n",
    "  plt.imshow(gray_img, cmap='gray')\n"
   ],
   "metadata": {
    "collapsed": false,
    "pycharm": {
     "name": "#%%\n"
    }
   }
  },
  {
   "cell_type": "markdown",
   "source": [
    "-----since last test-----\n",
    "now we will need to extract the roi mask"
   ],
   "metadata": {
    "collapsed": false,
    "pycharm": {
     "name": "#%% md\n"
    }
   }
  },
  {
   "cell_type": "code",
   "execution_count": null,
   "outputs": [],
   "source": [
    "ROI_mask_images=dicom_data[dicom_data.SeriesDescription == 'ROI mask images'].image_path\n",
    "ROI_mask_images.head()"
   ],
   "metadata": {
    "collapsed": false,
    "pycharm": {
     "name": "#%%\n"
    }
   }
  },
  {
   "cell_type": "markdown",
   "source": [
    "now to create the mask's graph"
   ],
   "metadata": {
    "collapsed": false,
    "pycharm": {
     "name": "#%% md\n"
    }
   }
  },
  {
   "cell_type": "code",
   "execution_count": null,
   "outputs": [],
   "source": [
    "for file  in ROI_mask_images[0:5]:\n",
    "  ROI_mask_images_show = PIL.Image.open(file)\n",
    "  gray_img= ROI_mask_images_show.convert(\"L\")\n",
    "  plt.imshow(gray_img, cmap='gray')"
   ],
   "metadata": {
    "collapsed": false,
    "pycharm": {
     "name": "#%%\n"
    }
   }
  },
  {
   "cell_type": "markdown",
   "source": [
    "Start reading data for every image\n",
    "\n",
    "\n"
   ],
   "metadata": {
    "collapsed": false,
    "pycharm": {
     "name": "#%% md\n"
    }
   }
  },
  {
   "cell_type": "code",
   "execution_count": null,
   "outputs": [],
   "source": [
    "data_1=pd.read_csv('CBIS-DDSM/csv/calc_case_description_train_set.csv')\n"
   ],
   "metadata": {
    "collapsed": false,
    "pycharm": {
     "name": "#%%\n"
    }
   }
  },
  {
   "cell_type": "code",
   "execution_count": null,
   "outputs": [],
   "source": [
    "data_1.head()\n"
   ],
   "metadata": {
    "collapsed": false,
    "pycharm": {
     "name": "#%%\n"
    }
   }
  },
  {
   "cell_type": "code",
   "execution_count": null,
   "outputs": [],
   "source": [
    "data_1.info()\n"
   ],
   "metadata": {
    "collapsed": false,
    "pycharm": {
     "name": "#%%\n"
    }
   }
  },
  {
   "cell_type": "code",
   "execution_count": null,
   "outputs": [],
   "source": [
    "data_1.describe()"
   ],
   "metadata": {
    "collapsed": false,
    "pycharm": {
     "name": "#%%\n"
    }
   }
  },
  {
   "cell_type": "code",
   "execution_count": null,
   "outputs": [],
   "source": [
    "data_2=pd.read_csv('CBIS-DDSM/csv/mass_case_description_train_set.csv')"
   ],
   "metadata": {
    "collapsed": false,
    "pycharm": {
     "name": "#%%\n"
    }
   }
  },
  {
   "cell_type": "code",
   "execution_count": null,
   "outputs": [],
   "source": [
    "data_2.head()"
   ],
   "metadata": {
    "collapsed": false,
    "pycharm": {
     "name": "#%%\n"
    }
   }
  },
  {
   "cell_type": "code",
   "execution_count": null,
   "outputs": [],
   "source": [
    "data_2.info()"
   ],
   "metadata": {
    "collapsed": false,
    "pycharm": {
     "name": "#%%\n"
    }
   }
  },
  {
   "cell_type": "code",
   "execution_count": null,
   "outputs": [],
   "source": [
    "data_2.describe()"
   ],
   "metadata": {
    "collapsed": false,
    "pycharm": {
     "name": "#%%\n"
    }
   }
  },
  {
   "cell_type": "markdown",
   "source": [
    "Data Cleaning"
   ],
   "metadata": {
    "collapsed": false,
    "pycharm": {
     "name": "#%% md\n"
    }
   }
  },
  {
   "cell_type": "code",
   "execution_count": null,
   "outputs": [],
   "source": [
    "dicom_cleaning_data = dicom_data.copy()\n",
    "dicom_cleaning_data.head()\n"
   ],
   "metadata": {
    "collapsed": false,
    "pycharm": {
     "name": "#%%\n"
    }
   }
  },
  {
   "cell_type": "code",
   "execution_count": null,
   "outputs": [],
   "source": [
    "dicom_cleaning_data.drop(['PatientBirthDate','AccessionNumber','Columns','ContentDate','ContentTime','PatientSex','PatientBirthDate',\n",
    "                                                'ReferringPhysicianName','Rows','SOPClassUID','SOPInstanceUID',\n",
    "                                                'StudyDate','StudyID','StudyInstanceUID','StudyTime','InstanceNumber','SeriesInstanceUID','SeriesNumber'],axis =1, inplace=True)\n"
   ],
   "metadata": {
    "collapsed": false,
    "pycharm": {
     "name": "#%%\n"
    }
   }
  },
  {
   "cell_type": "code",
   "execution_count": null,
   "outputs": [],
   "source": [
    "dicom_cleaning_data.info()"
   ],
   "metadata": {
    "collapsed": false,
    "pycharm": {
     "name": "#%%\n"
    }
   }
  },
  {
   "cell_type": "code",
   "execution_count": null,
   "outputs": [],
   "source": [],
   "metadata": {
    "collapsed": false,
    "pycharm": {
     "name": "#%%\n"
    }
   }
  },
  {
   "cell_type": "markdown",
   "source": [
    "convert them to grayscale"
   ],
   "metadata": {
    "collapsed": false,
    "pycharm": {
     "name": "#%% md\n"
    }
   }
  },
  {
   "cell_type": "code",
   "execution_count": 29,
   "outputs": [
    {
     "data": {
      "text/plain": "1     CBIS-DDSM/jpeg/1.3.6.1.4.1.9590.100.1.2.248386...\n2     CBIS-DDSM/jpeg/1.3.6.1.4.1.9590.100.1.2.267213...\n11    CBIS-DDSM/jpeg/1.3.6.1.4.1.9590.100.1.2.210396...\n12    CBIS-DDSM/jpeg/1.3.6.1.4.1.9590.100.1.2.749566...\n15    CBIS-DDSM/jpeg/1.3.6.1.4.1.9590.100.1.2.987658...\nName: image_path, dtype: object"
     },
     "execution_count": 29,
     "metadata": {},
     "output_type": "execute_result"
    }
   ],
   "source": [
    "full_mammogram_images = full_mammogram_images.apply(lambda x: x.replace('CBIS-DDSM/jpeg', image_dir))\n",
    "full_mammogram_images.head()\n"
   ],
   "metadata": {
    "collapsed": false,
    "pycharm": {
     "name": "#%%\n"
    }
   }
  },
  {
   "cell_type": "code",
   "execution_count": 30,
   "outputs": [
    {
     "data": {
      "text/plain": "<Figure size 432x288 with 1 Axes>",
      "image/png": "[encoded data removed]"
     },
     "metadata": {
      "needs_background": "light"
     },
     "output_type": "display_data"
    }
   ],
   "source": [
    "for file  in full_mammogram_images[0:5]:\n",
    "  full_mammogram_images_show = PIL.Image.open(file)\n",
    "  gray_img= full_mammogram_images_show.convert(\"L\")\n",
    "  plt.imshow(gray_img, cmap='gray')\n"
   ],
   "metadata": {
    "collapsed": false,
    "pycharm": {
     "name": "#%%\n"
    }
   }
  },
  {
   "cell_type": "markdown",
   "source": [
    "-----since last test-----\n",
    "now we will need to extract the roi mask"
   ],
   "metadata": {
    "collapsed": false,
    "pycharm": {
     "name": "#%% md\n"
    }
   }
  },
  {
   "cell_type": "code",
   "execution_count": 31,
   "outputs": [
    {
     "data": {
      "text/plain": "5     CBIS-DDSM/jpeg/1.3.6.1.4.1.9590.100.1.2.153339...\n8     CBIS-DDSM/jpeg/1.3.6.1.4.1.9590.100.1.2.178994...\n9     CBIS-DDSM/jpeg/1.3.6.1.4.1.9590.100.1.2.411833...\n14    CBIS-DDSM/jpeg/1.3.6.1.4.1.9590.100.1.2.236373...\n20    CBIS-DDSM/jpeg/1.3.6.1.4.1.9590.100.1.2.357008...\nName: image_path, dtype: object"
     },
     "execution_count": 31,
     "metadata": {},
     "output_type": "execute_result"
    }
   ],
   "source": [
    "ROI_mask_images=dicom_data[dicom_data.SeriesDescription == 'ROI mask images'].image_path\n",
    "ROI_mask_images.head()"
   ],
   "metadata": {
    "collapsed": false,
    "pycharm": {
     "name": "#%%\n"
    }
   }
  },
  {
   "cell_type": "markdown",
   "source": [
    "now to create the mask's graph"
   ],
   "metadata": {
    "collapsed": false,
    "pycharm": {
     "name": "#%% md\n"
    }
   }
  },
  {
   "cell_type": "code",
   "execution_count": 32,
   "outputs": [
    {
     "data": {
      "text/plain": "<Figure size 432x288 with 1 Axes>",
      "image/png": "[encoded data removed]"
     },
     "metadata": {
      "needs_background": "light"
     },
     "output_type": "display_data"
    }
   ],
   "source": [
    "for file  in ROI_mask_images[0:5]:\n",
    "  ROI_mask_images_show = PIL.Image.open(file)\n",
    "  gray_img= ROI_mask_images_show.convert(\"L\")\n",
    "  plt.imshow(gray_img, cmap='gray')"
   ],
   "metadata": {
    "collapsed": false,
    "pycharm": {
     "name": "#%%\n"
    }
   }
  },
  {
   "cell_type": "markdown",
   "source": [
    "Start reading data for every image\n",
    "\n",
    "\n"
   ],
   "metadata": {
    "collapsed": false,
    "pycharm": {
     "name": "#%% md\n"
    }
   }
  },
  {
   "cell_type": "code",
   "execution_count": 33,
   "outputs": [],
   "source": [
    "data_1=pd.read_csv('CBIS-DDSM/csv/calc_case_description_train_set.csv')\n"
   ],
   "metadata": {
    "collapsed": false,
    "pycharm": {
     "name": "#%%\n"
    }
   }
  },
  {
   "cell_type": "code",
   "execution_count": 34,
   "outputs": [
    {
     "data": {
      "text/plain": "  patient_id  breast density left or right breast image view  abnormality id  \\\n0    P_00005               3                RIGHT         CC               1   \n1    P_00005               3                RIGHT        MLO               1   \n2    P_00007               4                 LEFT         CC               1   \n3    P_00007               4                 LEFT        MLO               1   \n4    P_00008               1                 LEFT         CC               1   \n\n  abnormality type    calc type calc distribution  assessment  \\\n0    calcification    AMORPHOUS         CLUSTERED           3   \n1    calcification    AMORPHOUS         CLUSTERED           3   \n2    calcification  PLEOMORPHIC            LINEAR           4   \n3    calcification  PLEOMORPHIC            LINEAR           4   \n4    calcification          NaN          REGIONAL           2   \n\n                 pathology  subtlety  \\\n0                MALIGNANT         3   \n1                MALIGNANT         3   \n2                   BENIGN         4   \n3                   BENIGN         4   \n4  BENIGN_WITHOUT_CALLBACK         3   \n\n                                     image file path  \\\n0  Calc-Training_P_00005_RIGHT_CC/1.3.6.1.4.1.959...   \n1  Calc-Training_P_00005_RIGHT_MLO/1.3.6.1.4.1.95...   \n2  Calc-Training_P_00007_LEFT_CC/1.3.6.1.4.1.9590...   \n3  Calc-Training_P_00007_LEFT_MLO/1.3.6.1.4.1.959...   \n4  Calc-Training_P_00008_LEFT_CC/1.3.6.1.4.1.9590...   \n\n                             cropped image file path  \\\n0  Calc-Training_P_00005_RIGHT_CC_1/1.3.6.1.4.1.9...   \n1  Calc-Training_P_00005_RIGHT_MLO_1/1.3.6.1.4.1....   \n2  Calc-Training_P_00007_LEFT_CC_1/1.3.6.1.4.1.95...   \n3  Calc-Training_P_00007_LEFT_MLO_1/1.3.6.1.4.1.9...   \n4  Calc-Training_P_00008_LEFT_CC_1/1.3.6.1.4.1.95...   \n\n                                  ROI mask file path  \n0  Calc-Training_P_00005_RIGHT_CC_1/1.3.6.1.4.1.9...  \n1  Calc-Training_P_00005_RIGHT_MLO_1/1.3.6.1.4.1....  \n2  Calc-Training_P_00007_LEFT_CC_1/1.3.6.1.4.1.95...  \n3  Calc-Training_P_00007_LEFT_MLO_1/1.3.6.1.4.1.9...  \n4  Calc-Training_P_00008_LEFT_CC_1/1.3.6.1.4.1.95...  ",
      "text/html": "<div>\n<style scoped>\n    .dataframe tbody tr th:only-of-type {\n        vertical-align: middle;\n    }\n\n    .dataframe tbody tr th {\n        vertical-align: top;\n    }\n\n    .dataframe thead th {\n        text-align: right;\n    }\n</style>\n<table border=\"1\" class=\"dataframe\">\n  <thead>\n    <tr style=\"text-align: right;\">\n      <th></th>\n      <th>patient_id</th>\n      <th>breast density</th>\n      <th>left or right breast</th>\n      <th>image view</th>\n      <th>abnormality id</th>\n      <th>abnormality type</th>\n      <th>calc type</th>\n      <th>calc distribution</th>\n      <th>assessment</th>\n      <th>pathology</th>\n      <th>subtlety</th>\n      <th>image file path</th>\n      <th>cropped image file path</th>\n      <th>ROI mask file path</th>\n    </tr>\n  </thead>\n  <tbody>\n    <tr>\n      <th>0</th>\n      <td>P_00005</td>\n      <td>3</td>\n      <td>RIGHT</td>\n      <td>CC</td>\n      <td>1</td>\n      <td>calcification</td>\n      <td>AMORPHOUS</td>\n      <td>CLUSTERED</td>\n      <td>3</td>\n      <td>MALIGNANT</td>\n      <td>3</td>\n      <td>Calc-Training_P_00005_RIGHT_CC/1.3.6.1.4.1.959...</td>\n      <td>Calc-Training_P_00005_RIGHT_CC_1/1.3.6.1.4.1.9...</td>\n      <td>Calc-Training_P_00005_RIGHT_CC_1/1.3.6.1.4.1.9...</td>\n    </tr>\n    <tr>\n      <th>1</th>\n      <td>P_00005</td>\n      <td>3</td>\n      <td>RIGHT</td>\n      <td>MLO</td>\n      <td>1</td>\n      <td>calcification</td>\n      <td>AMORPHOUS</td>\n      <td>CLUSTERED</td>\n      <td>3</td>\n      <td>MALIGNANT</td>\n      <td>3</td>\n      <td>Calc-Training_P_00005_RIGHT_MLO/1.3.6.1.4.1.95...</td>\n      <td>Calc-Training_P_00005_RIGHT_MLO_1/1.3.6.1.4.1....</td>\n      <td>Calc-Training_P_00005_RIGHT_MLO_1/1.3.6.1.4.1....</td>\n    </tr>\n    <tr>\n      <th>2</th>\n      <td>P_00007</td>\n      <td>4</td>\n      <td>LEFT</td>\n      <td>CC</td>\n      <td>1</td>\n      <td>calcification</td>\n      <td>PLEOMORPHIC</td>\n      <td>LINEAR</td>\n      <td>4</td>\n      <td>BENIGN</td>\n      <td>4</td>\n      <td>Calc-Training_P_00007_LEFT_CC/1.3.6.1.4.1.9590...</td>\n      <td>Calc-Training_P_00007_LEFT_CC_1/1.3.6.1.4.1.95...</td>\n      <td>Calc-Training_P_00007_LEFT_CC_1/1.3.6.1.4.1.95...</td>\n    </tr>\n    <tr>\n      <th>3</th>\n      <td>P_00007</td>\n      <td>4</td>\n      <td>LEFT</td>\n      <td>MLO</td>\n      <td>1</td>\n      <td>calcification</td>\n      <td>PLEOMORPHIC</td>\n      <td>LINEAR</td>\n      <td>4</td>\n      <td>BENIGN</td>\n      <td>4</td>\n      <td>Calc-Training_P_00007_LEFT_MLO/1.3.6.1.4.1.959...</td>\n      <td>Calc-Training_P_00007_LEFT_MLO_1/1.3.6.1.4.1.9...</td>\n      <td>Calc-Training_P_00007_LEFT_MLO_1/1.3.6.1.4.1.9...</td>\n    </tr>\n    <tr>\n      <th>4</th>\n      <td>P_00008</td>\n      <td>1</td>\n      <td>LEFT</td>\n      <td>CC</td>\n      <td>1</td>\n      <td>calcification</td>\n      <td>NaN</td>\n      <td>REGIONAL</td>\n      <td>2</td>\n      <td>BENIGN_WITHOUT_CALLBACK</td>\n      <td>3</td>\n      <td>Calc-Training_P_00008_LEFT_CC/1.3.6.1.4.1.9590...</td>\n      <td>Calc-Training_P_00008_LEFT_CC_1/1.3.6.1.4.1.95...</td>\n      <td>Calc-Training_P_00008_LEFT_CC_1/1.3.6.1.4.1.95...</td>\n    </tr>\n  </tbody>\n</table>\n</div>"
     },
     "execution_count": 34,
     "metadata": {},
     "output_type": "execute_result"
    }
   ],
   "source": [
    "data_1.head()\n"
   ],
   "metadata": {
    "collapsed": false,
    "pycharm": {
     "name": "#%%\n"
    }
   }
  },
  {
   "cell_type": "code",
   "execution_count": 35,
   "outputs": [
    {
     "name": "stdout",
     "output_type": "stream",
     "text": [
      "<class 'pandas.core.frame.DataFrame'>\n",
      "RangeIndex: 1546 entries, 0 to 1545\n",
      "Data columns (total 14 columns):\n",
      " #   Column                   Non-Null Count  Dtype \n",
      "---  ------                   --------------  ----- \n",
      " 0   patient_id               1546 non-null   object\n",
      " 1   breast density           1546 non-null   int64 \n",
      " 2   left or right breast     1546 non-null   object\n",
      " 3   image view               1546 non-null   object\n",
      " 4   abnormality id           1546 non-null   int64 \n",
      " 5   abnormality type         1546 non-null   object\n",
      " 6   calc type                1526 non-null   object\n",
      " 7   calc distribution        1170 non-null   object\n",
      " 8   assessment               1546 non-null   int64 \n",
      " 9   pathology                1546 non-null   object\n",
      " 10  subtlety                 1546 non-null   int64 \n",
      " 11  image file path          1546 non-null   object\n",
      " 12  cropped image file path  1546 non-null   object\n",
      " 13  ROI mask file path       1546 non-null   object\n",
      "dtypes: int64(4), object(10)\n",
      "memory usage: 169.2+ KB\n"
     ]
    }
   ],
   "source": [
    "data_1.info()\n"
   ],
   "metadata": {
    "collapsed": false,
    "pycharm": {
     "name": "#%%\n"
    }
   }
  },
  {
   "cell_type": "code",
   "execution_count": 36,
   "outputs": [
    {
     "data": {
      "text/plain": "       breast density  abnormality id   assessment     subtlety\ncount     1546.000000     1546.000000  1546.000000  1546.000000\nmean         2.663648        1.415265     3.258732     3.411384\nstd          0.937219        0.903571     1.229231     1.179754\nmin          1.000000        1.000000     0.000000     1.000000\n25%          2.000000        1.000000     2.000000     3.000000\n50%          3.000000        1.000000     4.000000     3.000000\n75%          3.000000        1.000000     4.000000     4.000000\nmax          4.000000        7.000000     5.000000     5.000000",
      "text/html": "<div>\n<style scoped>\n    .dataframe tbody tr th:only-of-type {\n        vertical-align: middle;\n    }\n\n    .dataframe tbody tr th {\n        vertical-align: top;\n    }\n\n    .dataframe thead th {\n        text-align: right;\n    }\n</style>\n<table border=\"1\" class=\"dataframe\">\n  <thead>\n    <tr style=\"text-align: right;\">\n      <th></th>\n      <th>breast density</th>\n      <th>abnormality id</th>\n      <th>assessment</th>\n      <th>subtlety</th>\n    </tr>\n  </thead>\n  <tbody>\n    <tr>\n      <th>count</th>\n      <td>1546.000000</td>\n      <td>1546.000000</td>\n      <td>1546.000000</td>\n      <td>1546.000000</td>\n    </tr>\n    <tr>\n      <th>mean</th>\n      <td>2.663648</td>\n      <td>1.415265</td>\n      <td>3.258732</td>\n      <td>3.411384</td>\n    </tr>\n    <tr>\n      <th>std</th>\n      <td>0.937219</td>\n      <td>0.903571</td>\n      <td>1.229231</td>\n      <td>1.179754</td>\n    </tr>\n    <tr>\n      <th>min</th>\n      <td>1.000000</td>\n      <td>1.000000</td>\n      <td>0.000000</td>\n      <td>1.000000</td>\n    </tr>\n    <tr>\n      <th>25%</th>\n      <td>2.000000</td>\n      <td>1.000000</td>\n      <td>2.000000</td>\n      <td>3.000000</td>\n    </tr>\n    <tr>\n      <th>50%</th>\n      <td>3.000000</td>\n      <td>1.000000</td>\n      <td>4.000000</td>\n      <td>3.000000</td>\n    </tr>\n    <tr>\n      <th>75%</th>\n      <td>3.000000</td>\n      <td>1.000000</td>\n      <td>4.000000</td>\n      <td>4.000000</td>\n    </tr>\n    <tr>\n      <th>max</th>\n      <td>4.000000</td>\n      <td>7.000000</td>\n      <td>5.000000</td>\n      <td>5.000000</td>\n    </tr>\n  </tbody>\n</table>\n</div>"
     },
     "execution_count": 36,
     "metadata": {},
     "output_type": "execute_result"
    }
   ],
   "source": [
    "data_1.describe()"
   ],
   "metadata": {
    "collapsed": false,
    "pycharm": {
     "name": "#%%\n"
    }
   }
  },
  {
   "cell_type": "code",
   "execution_count": 37,
   "outputs": [],
   "source": [
    "data_2=pd.read_csv('CBIS-DDSM/csv/mass_case_description_train_set.csv')"
   ],
   "metadata": {
    "collapsed": false,
    "pycharm": {
     "name": "#%%\n"
    }
   }
  },
  {
   "cell_type": "code",
   "execution_count": 38,
   "outputs": [
    {
     "data": {
      "text/plain": "  patient_id  breast_density left or right breast image view  abnormality id  \\\n0    P_00001               3                 LEFT         CC               1   \n1    P_00001               3                 LEFT        MLO               1   \n2    P_00004               3                 LEFT         CC               1   \n3    P_00004               3                 LEFT        MLO               1   \n4    P_00004               3                RIGHT        MLO               1   \n\n  abnormality type                          mass shape   mass margins  \\\n0             mass  IRREGULAR-ARCHITECTURAL_DISTORTION     SPICULATED   \n1             mass  IRREGULAR-ARCHITECTURAL_DISTORTION     SPICULATED   \n2             mass            ARCHITECTURAL_DISTORTION    ILL_DEFINED   \n3             mass            ARCHITECTURAL_DISTORTION    ILL_DEFINED   \n4             mass                                OVAL  CIRCUMSCRIBED   \n\n   assessment  pathology  subtlety  \\\n0           4  MALIGNANT         4   \n1           4  MALIGNANT         4   \n2           4     BENIGN         3   \n3           4     BENIGN         3   \n4           4     BENIGN         5   \n\n                                     image file path  \\\n0  Mass-Training_P_00001_LEFT_CC/1.3.6.1.4.1.9590...   \n1  Mass-Training_P_00001_LEFT_MLO/1.3.6.1.4.1.959...   \n2  Mass-Training_P_00004_LEFT_CC/1.3.6.1.4.1.9590...   \n3  Mass-Training_P_00004_LEFT_MLO/1.3.6.1.4.1.959...   \n4  Mass-Training_P_00004_RIGHT_MLO/1.3.6.1.4.1.95...   \n\n                             cropped image file path  \\\n0  Mass-Training_P_00001_LEFT_CC_1/1.3.6.1.4.1.95...   \n1  Mass-Training_P_00001_LEFT_MLO_1/1.3.6.1.4.1.9...   \n2  Mass-Training_P_00004_LEFT_CC_1/1.3.6.1.4.1.95...   \n3  Mass-Training_P_00004_LEFT_MLO_1/1.3.6.1.4.1.9...   \n4  Mass-Training_P_00004_RIGHT_MLO_1/1.3.6.1.4.1....   \n\n                                  ROI mask file path  \n0  Mass-Training_P_00001_LEFT_CC_1/1.3.6.1.4.1.95...  \n1  Mass-Training_P_00001_LEFT_MLO_1/1.3.6.1.4.1.9...  \n2  Mass-Training_P_00004_LEFT_CC_1/1.3.6.1.4.1.95...  \n3  Mass-Training_P_00004_LEFT_MLO_1/1.3.6.1.4.1.9...  \n4  Mass-Training_P_00004_RIGHT_MLO_1/1.3.6.1.4.1....  ",
      "text/html": "<div>\n<style scoped>\n    .dataframe tbody tr th:only-of-type {\n        vertical-align: middle;\n    }\n\n    .dataframe tbody tr th {\n        vertical-align: top;\n    }\n\n    .dataframe thead th {\n        text-align: right;\n    }\n</style>\n<table border=\"1\" class=\"dataframe\">\n  <thead>\n    <tr style=\"text-align: right;\">\n      <th></th>\n      <th>patient_id</th>\n      <th>breast_density</th>\n      <th>left or right breast</th>\n      <th>image view</th>\n      <th>abnormality id</th>\n      <th>abnormality type</th>\n      <th>mass shape</th>\n      <th>mass margins</th>\n      <th>assessment</th>\n      <th>pathology</th>\n      <th>subtlety</th>\n      <th>image file path</th>\n      <th>cropped image file path</th>\n      <th>ROI mask file path</th>\n    </tr>\n  </thead>\n  <tbody>\n    <tr>\n      <th>0</th>\n      <td>P_00001</td>\n      <td>3</td>\n      <td>LEFT</td>\n      <td>CC</td>\n      <td>1</td>\n      <td>mass</td>\n      <td>IRREGULAR-ARCHITECTURAL_DISTORTION</td>\n      <td>SPICULATED</td>\n      <td>4</td>\n      <td>MALIGNANT</td>\n      <td>4</td>\n      <td>Mass-Training_P_00001_LEFT_CC/1.3.6.1.4.1.9590...</td>\n      <td>Mass-Training_P_00001_LEFT_CC_1/1.3.6.1.4.1.95...</td>\n      <td>Mass-Training_P_00001_LEFT_CC_1/1.3.6.1.4.1.95...</td>\n    </tr>\n    <tr>\n      <th>1</th>\n      <td>P_00001</td>\n      <td>3</td>\n      <td>LEFT</td>\n      <td>MLO</td>\n      <td>1</td>\n      <td>mass</td>\n      <td>IRREGULAR-ARCHITECTURAL_DISTORTION</td>\n      <td>SPICULATED</td>\n      <td>4</td>\n      <td>MALIGNANT</td>\n      <td>4</td>\n      <td>Mass-Training_P_00001_LEFT_MLO/1.3.6.1.4.1.959...</td>\n      <td>Mass-Training_P_00001_LEFT_MLO_1/1.3.6.1.4.1.9...</td>\n      <td>Mass-Training_P_00001_LEFT_MLO_1/1.3.6.1.4.1.9...</td>\n    </tr>\n    <tr>\n      <th>2</th>\n      <td>P_00004</td>\n      <td>3</td>\n      <td>LEFT</td>\n      <td>CC</td>\n      <td>1</td>\n      <td>mass</td>\n      <td>ARCHITECTURAL_DISTORTION</td>\n      <td>ILL_DEFINED</td>\n      <td>4</td>\n      <td>BENIGN</td>\n      <td>3</td>\n      <td>Mass-Training_P_00004_LEFT_CC/1.3.6.1.4.1.9590...</td>\n      <td>Mass-Training_P_00004_LEFT_CC_1/1.3.6.1.4.1.95...</td>\n      <td>Mass-Training_P_00004_LEFT_CC_1/1.3.6.1.4.1.95...</td>\n    </tr>\n    <tr>\n      <th>3</th>\n      <td>P_00004</td>\n      <td>3</td>\n      <td>LEFT</td>\n      <td>MLO</td>\n      <td>1</td>\n      <td>mass</td>\n      <td>ARCHITECTURAL_DISTORTION</td>\n      <td>ILL_DEFINED</td>\n      <td>4</td>\n      <td>BENIGN</td>\n      <td>3</td>\n      <td>Mass-Training_P_00004_LEFT_MLO/1.3.6.1.4.1.959...</td>\n      <td>Mass-Training_P_00004_LEFT_MLO_1/1.3.6.1.4.1.9...</td>\n      <td>Mass-Training_P_00004_LEFT_MLO_1/1.3.6.1.4.1.9...</td>\n    </tr>\n    <tr>\n      <th>4</th>\n      <td>P_00004</td>\n      <td>3</td>\n      <td>RIGHT</td>\n      <td>MLO</td>\n      <td>1</td>\n      <td>mass</td>\n      <td>OVAL</td>\n      <td>CIRCUMSCRIBED</td>\n      <td>4</td>\n      <td>BENIGN</td>\n      <td>5</td>\n      <td>Mass-Training_P_00004_RIGHT_MLO/1.3.6.1.4.1.95...</td>\n      <td>Mass-Training_P_00004_RIGHT_MLO_1/1.3.6.1.4.1....</td>\n      <td>Mass-Training_P_00004_RIGHT_MLO_1/1.3.6.1.4.1....</td>\n    </tr>\n  </tbody>\n</table>\n</div>"
     },
     "execution_count": 38,
     "metadata": {},
     "output_type": "execute_result"
    }
   ],
   "source": [
    "data_2.head()"
   ],
   "metadata": {
    "collapsed": false,
    "pycharm": {
     "name": "#%%\n"
    }
   }
  },
  {
   "cell_type": "code",
   "execution_count": 39,
   "outputs": [
    {
     "name": "stdout",
     "output_type": "stream",
     "text": [
      "<class 'pandas.core.frame.DataFrame'>\n",
      "RangeIndex: 1318 entries, 0 to 1317\n",
      "Data columns (total 14 columns):\n",
      " #   Column                   Non-Null Count  Dtype \n",
      "---  ------                   --------------  ----- \n",
      " 0   patient_id               1318 non-null   object\n",
      " 1   breast_density           1318 non-null   int64 \n",
      " 2   left or right breast     1318 non-null   object\n",
      " 3   image view               1318 non-null   object\n",
      " 4   abnormality id           1318 non-null   int64 \n",
      " 5   abnormality type         1318 non-null   object\n",
      " 6   mass shape               1314 non-null   object\n",
      " 7   mass margins             1275 non-null   object\n",
      " 8   assessment               1318 non-null   int64 \n",
      " 9   pathology                1318 non-null   object\n",
      " 10  subtlety                 1318 non-null   int64 \n",
      " 11  image file path          1318 non-null   object\n",
      " 12  cropped image file path  1318 non-null   object\n",
      " 13  ROI mask file path       1318 non-null   object\n",
      "dtypes: int64(4), object(10)\n",
      "memory usage: 144.3+ KB\n"
     ]
    }
   ],
   "source": [
    "data_2.info()"
   ],
   "metadata": {
    "collapsed": false,
    "pycharm": {
     "name": "#%%\n"
    }
   }
  },
  {
   "cell_type": "code",
   "execution_count": 40,
   "outputs": [
    {
     "data": {
      "text/plain": "       breast_density  abnormality id   assessment     subtlety\ncount     1318.000000     1318.000000  1318.000000  1318.000000\nmean         2.203338        1.116085     3.504552     3.965857\nstd          0.873774        0.467013     1.414609     1.102032\nmin          1.000000        1.000000     0.000000     0.000000\n25%          2.000000        1.000000     3.000000     3.000000\n50%          2.000000        1.000000     4.000000     4.000000\n75%          3.000000        1.000000     4.000000     5.000000\nmax          4.000000        6.000000     5.000000     5.000000",
      "text/html": "<div>\n<style scoped>\n    .dataframe tbody tr th:only-of-type {\n        vertical-align: middle;\n    }\n\n    .dataframe tbody tr th {\n        vertical-align: top;\n    }\n\n    .dataframe thead th {\n        text-align: right;\n    }\n</style>\n<table border=\"1\" class=\"dataframe\">\n  <thead>\n    <tr style=\"text-align: right;\">\n      <th></th>\n      <th>breast_density</th>\n      <th>abnormality id</th>\n      <th>assessment</th>\n      <th>subtlety</th>\n    </tr>\n  </thead>\n  <tbody>\n    <tr>\n      <th>count</th>\n      <td>1318.000000</td>\n      <td>1318.000000</td>\n      <td>1318.000000</td>\n      <td>1318.000000</td>\n    </tr>\n    <tr>\n      <th>mean</th>\n      <td>2.203338</td>\n      <td>1.116085</td>\n      <td>3.504552</td>\n      <td>3.965857</td>\n    </tr>\n    <tr>\n      <th>std</th>\n      <td>0.873774</td>\n      <td>0.467013</td>\n      <td>1.414609</td>\n      <td>1.102032</td>\n    </tr>\n    <tr>\n      <th>min</th>\n      <td>1.000000</td>\n      <td>1.000000</td>\n      <td>0.000000</td>\n      <td>0.000000</td>\n    </tr>\n    <tr>\n      <th>25%</th>\n      <td>2.000000</td>\n      <td>1.000000</td>\n      <td>3.000000</td>\n      <td>3.000000</td>\n    </tr>\n    <tr>\n      <th>50%</th>\n      <td>2.000000</td>\n      <td>1.000000</td>\n      <td>4.000000</td>\n      <td>4.000000</td>\n    </tr>\n    <tr>\n      <th>75%</th>\n      <td>3.000000</td>\n      <td>1.000000</td>\n      <td>4.000000</td>\n      <td>5.000000</td>\n    </tr>\n    <tr>\n      <th>max</th>\n      <td>4.000000</td>\n      <td>6.000000</td>\n      <td>5.000000</td>\n      <td>5.000000</td>\n    </tr>\n  </tbody>\n</table>\n</div>"
     },
     "execution_count": 40,
     "metadata": {},
     "output_type": "execute_result"
    }
   ],
   "source": [
    "data_2.describe()"
   ],
   "metadata": {
    "collapsed": false,
    "pycharm": {
     "name": "#%%\n"
    }
   }
  },
  {
   "cell_type": "markdown",
   "source": [
    "Data Cleaning"
   ],
   "metadata": {
    "collapsed": false,
    "pycharm": {
     "name": "#%% md\n"
    }
   }
  },
  {
   "cell_type": "code",
   "execution_count": 41,
   "outputs": [
    {
     "data": {
      "text/plain": "                                           file_path  \\\n0  CBIS-DDSM/dicom/1.3.6.1.4.1.9590.100.1.2.12930...   \n1  CBIS-DDSM/dicom/1.3.6.1.4.1.9590.100.1.2.24838...   \n2  CBIS-DDSM/dicom/1.3.6.1.4.1.9590.100.1.2.26721...   \n3  CBIS-DDSM/dicom/1.3.6.1.4.1.9590.100.1.2.38118...   \n4  CBIS-DDSM/dicom/1.3.6.1.4.1.9590.100.1.2.38118...   \n\n                                          image_path  AccessionNumber  \\\n0  CBIS-DDSM/jpeg/1.3.6.1.4.1.9590.100.1.2.129308...              NaN   \n1  CBIS-DDSM/jpeg/1.3.6.1.4.1.9590.100.1.2.248386...              NaN   \n2  CBIS-DDSM/jpeg/1.3.6.1.4.1.9590.100.1.2.267213...              NaN   \n3  CBIS-DDSM/jpeg/1.3.6.1.4.1.9590.100.1.2.381187...              NaN   \n4  CBIS-DDSM/jpeg/1.3.6.1.4.1.9590.100.1.2.381187...              NaN   \n\n   BitsAllocated  BitsStored BodyPartExamined  Columns  ContentDate  \\\n0             16          16           BREAST      351     20160426   \n1             16          16           BREAST     3526     20160426   \n2             16          16           BREAST     1546     20160503   \n3             16          16           BREAST       97     20160503   \n4              8           8      Left Breast     3104     20160503   \n\n   ContentTime ConversionType  ...  \\\n0   131732.685            WSD  ...   \n1   143829.101            WSD  ...   \n2   111956.298            WSD  ...   \n3   115347.770            WSD  ...   \n4   115347.770            WSD  ...   \n\n   SecondaryCaptureDeviceManufacturerModelName      SeriesDescription  \\\n0                                       MATLAB         cropped images   \n1                                       MATLAB  full mammogram images   \n2                                       MATLAB  full mammogram images   \n3                                       MATLAB         cropped images   \n4                                       MATLAB                    NaN   \n\n                                   SeriesInstanceUID SeriesNumber  \\\n0  1.3.6.1.4.1.9590.100.1.2.129308726812851964007...            1   \n1  1.3.6.1.4.1.9590.100.1.2.248386742010678582309...            1   \n2  1.3.6.1.4.1.9590.100.1.2.267213171011171858918...            1   \n3  1.3.6.1.4.1.9590.100.1.2.381187369611524586537...            1   \n4  1.3.6.1.4.1.9590.100.1.2.381187369611524586537...            1   \n\n  SmallestImagePixelValue  SpecificCharacterSet   StudyDate StudyID  \\\n0                   23078            ISO_IR 100  20160720.0    DDSM   \n1                       0            ISO_IR 100  20160720.0    DDSM   \n2                       0            ISO_IR 100  20160807.0    DDSM   \n3                   32298            ISO_IR 100  20170829.0    DDSM   \n4                       0            ISO_IR 100         NaN    DDSM   \n\n                                    StudyInstanceUID  StudyTime  \n0  1.3.6.1.4.1.9590.100.1.2.271867287611061855725...   214951.0  \n1  1.3.6.1.4.1.9590.100.1.2.161516517311681906612...   193426.0  \n2  1.3.6.1.4.1.9590.100.1.2.291043622711253836701...   161814.0  \n3  1.3.6.1.4.1.9590.100.1.2.335006093711888937440...   180109.0  \n4  1.3.6.1.4.1.9590.100.1.2.335006093711888937440...        NaN  \n\n[5 rows x 38 columns]",
      "text/html": "<div>\n<style scoped>\n    .dataframe tbody tr th:only-of-type {\n        vertical-align: middle;\n    }\n\n    .dataframe tbody tr th {\n        vertical-align: top;\n    }\n\n    .dataframe thead th {\n        text-align: right;\n    }\n</style>\n<table border=\"1\" class=\"dataframe\">\n  <thead>\n    <tr style=\"text-align: right;\">\n      <th></th>\n      <th>file_path</th>\n      <th>image_path</th>\n      <th>AccessionNumber</th>\n      <th>BitsAllocated</th>\n      <th>BitsStored</th>\n      <th>BodyPartExamined</th>\n      <th>Columns</th>\n      <th>ContentDate</th>\n      <th>ContentTime</th>\n      <th>ConversionType</th>\n      <th>...</th>\n      <th>SecondaryCaptureDeviceManufacturerModelName</th>\n      <th>SeriesDescription</th>\n      <th>SeriesInstanceUID</th>\n      <th>SeriesNumber</th>\n      <th>SmallestImagePixelValue</th>\n      <th>SpecificCharacterSet</th>\n      <th>StudyDate</th>\n      <th>StudyID</th>\n      <th>StudyInstanceUID</th>\n      <th>StudyTime</th>\n    </tr>\n  </thead>\n  <tbody>\n    <tr>\n      <th>0</th>\n      <td>CBIS-DDSM/dicom/1.3.6.1.4.1.9590.100.1.2.12930...</td>\n      <td>CBIS-DDSM/jpeg/1.3.6.1.4.1.9590.100.1.2.129308...</td>\n      <td>NaN</td>\n      <td>16</td>\n      <td>16</td>\n      <td>BREAST</td>\n      <td>351</td>\n      <td>20160426</td>\n      <td>131732.685</td>\n      <td>WSD</td>\n      <td>...</td>\n      <td>MATLAB</td>\n      <td>cropped images</td>\n      <td>1.3.6.1.4.1.9590.100.1.2.129308726812851964007...</td>\n      <td>1</td>\n      <td>23078</td>\n      <td>ISO_IR 100</td>\n      <td>20160720.0</td>\n      <td>DDSM</td>\n      <td>1.3.6.1.4.1.9590.100.1.2.271867287611061855725...</td>\n      <td>214951.0</td>\n    </tr>\n    <tr>\n      <th>1</th>\n      <td>CBIS-DDSM/dicom/1.3.6.1.4.1.9590.100.1.2.24838...</td>\n      <td>CBIS-DDSM/jpeg/1.3.6.1.4.1.9590.100.1.2.248386...</td>\n      <td>NaN</td>\n      <td>16</td>\n      <td>16</td>\n      <td>BREAST</td>\n      <td>3526</td>\n      <td>20160426</td>\n      <td>143829.101</td>\n      <td>WSD</td>\n      <td>...</td>\n      <td>MATLAB</td>\n      <td>full mammogram images</td>\n      <td>1.3.6.1.4.1.9590.100.1.2.248386742010678582309...</td>\n      <td>1</td>\n      <td>0</td>\n      <td>ISO_IR 100</td>\n      <td>20160720.0</td>\n      <td>DDSM</td>\n      <td>1.3.6.1.4.1.9590.100.1.2.161516517311681906612...</td>\n      <td>193426.0</td>\n    </tr>\n    <tr>\n      <th>2</th>\n      <td>CBIS-DDSM/dicom/1.3.6.1.4.1.9590.100.1.2.26721...</td>\n      <td>CBIS-DDSM/jpeg/1.3.6.1.4.1.9590.100.1.2.267213...</td>\n      <td>NaN</td>\n      <td>16</td>\n      <td>16</td>\n      <td>BREAST</td>\n      <td>1546</td>\n      <td>20160503</td>\n      <td>111956.298</td>\n      <td>WSD</td>\n      <td>...</td>\n      <td>MATLAB</td>\n      <td>full mammogram images</td>\n      <td>1.3.6.1.4.1.9590.100.1.2.267213171011171858918...</td>\n      <td>1</td>\n      <td>0</td>\n      <td>ISO_IR 100</td>\n      <td>20160807.0</td>\n      <td>DDSM</td>\n      <td>1.3.6.1.4.1.9590.100.1.2.291043622711253836701...</td>\n      <td>161814.0</td>\n    </tr>\n    <tr>\n      <th>3</th>\n      <td>CBIS-DDSM/dicom/1.3.6.1.4.1.9590.100.1.2.38118...</td>\n      <td>CBIS-DDSM/jpeg/1.3.6.1.4.1.9590.100.1.2.381187...</td>\n      <td>NaN</td>\n      <td>16</td>\n      <td>16</td>\n      <td>BREAST</td>\n      <td>97</td>\n      <td>20160503</td>\n      <td>115347.770</td>\n      <td>WSD</td>\n      <td>...</td>\n      <td>MATLAB</td>\n      <td>cropped images</td>\n      <td>1.3.6.1.4.1.9590.100.1.2.381187369611524586537...</td>\n      <td>1</td>\n      <td>32298</td>\n      <td>ISO_IR 100</td>\n      <td>20170829.0</td>\n      <td>DDSM</td>\n      <td>1.3.6.1.4.1.9590.100.1.2.335006093711888937440...</td>\n      <td>180109.0</td>\n    </tr>\n    <tr>\n      <th>4</th>\n      <td>CBIS-DDSM/dicom/1.3.6.1.4.1.9590.100.1.2.38118...</td>\n      <td>CBIS-DDSM/jpeg/1.3.6.1.4.1.9590.100.1.2.381187...</td>\n      <td>NaN</td>\n      <td>8</td>\n      <td>8</td>\n      <td>Left Breast</td>\n      <td>3104</td>\n      <td>20160503</td>\n      <td>115347.770</td>\n      <td>WSD</td>\n      <td>...</td>\n      <td>MATLAB</td>\n      <td>NaN</td>\n      <td>1.3.6.1.4.1.9590.100.1.2.381187369611524586537...</td>\n      <td>1</td>\n      <td>0</td>\n      <td>ISO_IR 100</td>\n      <td>NaN</td>\n      <td>DDSM</td>\n      <td>1.3.6.1.4.1.9590.100.1.2.335006093711888937440...</td>\n      <td>NaN</td>\n    </tr>\n  </tbody>\n</table>\n<p>5 rows × 38 columns</p>\n</div>"
     },
     "execution_count": 41,
     "metadata": {},
     "output_type": "execute_result"
    }
   ],
   "source": [
    "dicom_cleaning_data = dicom_data.copy()\n",
    "dicom_cleaning_data.head()\n"
   ],
   "metadata": {
    "collapsed": false,
    "pycharm": {
     "name": "#%%\n"
    }
   }
  },
  {
   "cell_type": "code",
   "execution_count": 42,
   "outputs": [],
   "source": [
    "dicom_cleaning_data.drop(['PatientBirthDate','AccessionNumber','Columns','ContentDate','ContentTime','PatientSex','PatientBirthDate',\n",
    "                                                'ReferringPhysicianName','Rows','SOPClassUID','SOPInstanceUID',\n",
    "                                                'StudyDate','StudyID','StudyInstanceUID','StudyTime','InstanceNumber','SeriesInstanceUID','SeriesNumber'],axis =1, inplace=True)\n"
   ],
   "metadata": {
    "collapsed": false,
    "pycharm": {
     "name": "#%%\n"
    }
   }
  },
  {
   "cell_type": "code",
   "execution_count": 43,
   "outputs": [
    {
     "name": "stdout",
     "output_type": "stream",
     "text": [
      "<class 'pandas.core.frame.DataFrame'>\n",
      "RangeIndex: 10237 entries, 0 to 10236\n",
      "Data columns (total 21 columns):\n",
      " #   Column                                       Non-Null Count  Dtype \n",
      "---  ------                                       --------------  ----- \n",
      " 0   file_path                                    10237 non-null  object\n",
      " 1   image_path                                   10237 non-null  object\n",
      " 2   BitsAllocated                                10237 non-null  int64 \n",
      " 3   BitsStored                                   10237 non-null  int64 \n",
      " 4   BodyPartExamined                             10237 non-null  object\n",
      " 5   ConversionType                               10237 non-null  object\n",
      " 6   HighBit                                      10237 non-null  int64 \n",
      " 7   LargestImagePixelValue                       10237 non-null  int64 \n",
      " 8   Laterality                                   9671 non-null   object\n",
      " 9   Modality                                     10237 non-null  object\n",
      " 10  PatientID                                    10237 non-null  object\n",
      " 11  PatientName                                  10237 non-null  object\n",
      " 12  PatientOrientation                           10237 non-null  object\n",
      " 13  PhotometricInterpretation                    10237 non-null  object\n",
      " 14  PixelRepresentation                          10237 non-null  int64 \n",
      " 15  SamplesPerPixel                              10237 non-null  int64 \n",
      " 16  SecondaryCaptureDeviceManufacturer           10237 non-null  object\n",
      " 17  SecondaryCaptureDeviceManufacturerModelName  10237 non-null  object\n",
      " 18  SeriesDescription                            9671 non-null   object\n",
      " 19  SmallestImagePixelValue                      10237 non-null  int64 \n",
      " 20  SpecificCharacterSet                         10237 non-null  object\n",
      "dtypes: int64(7), object(14)\n",
      "memory usage: 1.6+ MB\n"
     ]
    }
   ],
   "source": [
    "dicom_cleaning_data.info()"
   ],
   "metadata": {
    "collapsed": false,
    "pycharm": {
     "name": "#%%\n"
    }
   }
  },
  {
   "cell_type": "code",
   "execution_count": 43,
   "outputs": [],
   "source": [],
   "metadata": {
    "collapsed": false,
    "pycharm": {
     "name": "#%%\n"
    }
   }
  },
  {
   "cell_type": "code",
   "execution_count": 43,
   "outputs": [],
   "source": [],
   "metadata": {
    "collapsed": false,
    "pycharm": {
     "name": "#%%\n"
    }
   }
  }
 ],
 "metadata": {
  "kernelspec": {
   "display_name": "Python 3",
   "language": "python",
   "name": "python3"
  },
  "language_info": {
   "codemirror_mode": {
    "name": "ipython",
    "version": 2
   },
   "file_extension": ".py",
   "mimetype": "text/x-python",
   "name": "python",
   "nbconvert_exporter": "python",
   "pygments_lexer": "ipython2",
   "version": "2.7.6"
  }
 },
 "nbformat": 4,
 "nbformat_minor": 0
}